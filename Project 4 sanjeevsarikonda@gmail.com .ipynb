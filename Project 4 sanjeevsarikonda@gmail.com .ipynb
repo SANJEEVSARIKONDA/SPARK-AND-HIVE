{
 "cells": [
  {
   "cell_type": "code",
   "execution_count": 2,
   "metadata": {
    "colab": {
     "base_uri": "https://localhost:8080/"
    },
    "id": "PcGvMVJr34aC",
    "outputId": "16bc5f89-e221-4d6c-ea30-caccbf4e6d3e"
   },
   "outputs": [
    {
     "name": "stdout",
     "output_type": "stream",
     "text": [
      "Collecting pyspark\n",
      "  Downloading pyspark-3.2.1.tar.gz (281.4 MB)\n",
      "\u001b[K     |████████████████████████████████| 281.4 MB 35 kB/s \n",
      "\u001b[?25hCollecting py4j==0.10.9.3\n",
      "  Downloading py4j-0.10.9.3-py2.py3-none-any.whl (198 kB)\n",
      "\u001b[K     |████████████████████████████████| 198 kB 36.8 MB/s \n",
      "\u001b[?25hBuilding wheels for collected packages: pyspark\n",
      "  Building wheel for pyspark (setup.py) ... \u001b[?25l\u001b[?25hdone\n",
      "  Created wheel for pyspark: filename=pyspark-3.2.1-py2.py3-none-any.whl size=281853642 sha256=ba628c87827bfe799df3068e746d7a76175a72455fbfd8555d4ab624ba362362\n",
      "  Stored in directory: /root/.cache/pip/wheels/9f/f5/07/7cd8017084dce4e93e84e92efd1e1d5334db05f2e83bcef74f\n",
      "Successfully built pyspark\n",
      "Installing collected packages: py4j, pyspark\n",
      "Successfully installed py4j-0.10.9.3 pyspark-3.2.1\n"
     ]
    }
   ],
   "source": [
    "!pip install pyspark\n",
    "\n",
    "!apt-get install openjdk-8-jdk-headless -qq > /dev/null\n",
    "\n",
    "!wget -q https://dlcdn.apache.org/spark/spark-3.2.1/spark-3.2.1-bin-hadoop2.7.tgz\n",
    "!tar xf spark-3.2.1-bin-hadoop2.7.tgz\n",
    "\n",
    "!pip install -q findspark\n",
    "\n",
    "import os\n",
    "os.environ[\"JAVA_HOME\"] = \"/usr/lib/jvm/java-8-openjdk-amd64\"\n",
    "os.environ[\"SPARK_HOME\"] = \"/content/spark-3.2.1-bin-hadoop2.7\""
   ]
  },
  {
   "cell_type": "code",
   "execution_count": 3,
   "metadata": {
    "colab": {
     "base_uri": "https://localhost:8080/",
     "height": 219
    },
    "id": "LZ7jazaq3e1m",
    "outputId": "51db4615-a909-4099-b36f-334234a62280"
   },
   "outputs": [
    {
     "data": {
      "text/html": [
       "\n",
       "            <div>\n",
       "                <p><b>SparkSession - in-memory</b></p>\n",
       "                \n",
       "        <div>\n",
       "            <p><b>SparkContext</b></p>\n",
       "\n",
       "            <p><a href=\"http://603ccc4da25c:4040\">Spark UI</a></p>\n",
       "\n",
       "            <dl>\n",
       "              <dt>Version</dt>\n",
       "                <dd><code>v3.2.1</code></dd>\n",
       "              <dt>Master</dt>\n",
       "                <dd><code>local[*]</code></dd>\n",
       "              <dt>AppName</dt>\n",
       "                <dd><code>app_analytics</code></dd>\n",
       "            </dl>\n",
       "        </div>\n",
       "        \n",
       "            </div>\n",
       "        "
      ],
      "text/plain": [
       "<pyspark.sql.session.SparkSession at 0x7f647e24f850>"
      ]
     },
     "execution_count": 3,
     "metadata": {},
     "output_type": "execute_result"
    }
   ],
   "source": [
    "from pyspark.sql import SparkSession\n",
    "from pyspark.sql.types import *\n",
    "from pyspark.sql.functions import *\n",
    "spark = SparkSession.builder.appName(\"app_analytics\").getOrCreate()\n",
    "spark"
   ]
  },
  {
   "cell_type": "code",
   "execution_count": 4,
   "metadata": {
    "id": "sqLAUWbZ3e1r"
   },
   "outputs": [],
   "source": [
    "uicycles = spark.read.format(\"csv\").option(\"header\",True).option(\"inferSchema\",True).load(\"uicycles.csv\")"
   ]
  },
  {
   "cell_type": "code",
   "execution_count": 5,
   "metadata": {
    "colab": {
     "base_uri": "https://localhost:8080/"
    },
    "id": "fzFqaNBB3e1u",
    "outputId": "ae5dba7d-614a-4f84-8f5d-48519a60cd2b"
   },
   "outputs": [
    {
     "name": "stdout",
     "output_type": "stream",
     "text": [
      "root\n",
      " |-- uuid: string (nullable = true)\n",
      " |-- os: string (nullable = true)\n",
      " |-- event_type: string (nullable = true)\n",
      " |-- creation_date: string (nullable = true)\n",
      "\n"
     ]
    }
   ],
   "source": [
    "uicycles.printSchema()"
   ]
  },
  {
   "cell_type": "code",
   "execution_count": 6,
   "metadata": {
    "colab": {
     "base_uri": "https://localhost:8080/"
    },
    "id": "DhEIuK8i3e1w",
    "outputId": "c3c9bae6-9499-4386-b193-349f13741b8d"
   },
   "outputs": [
    {
     "name": "stdout",
     "output_type": "stream",
     "text": [
      "+----------------+-------+----------+---------------------+\n",
      "|uuid            |os     |event_type|creation_date        |\n",
      "+----------------+-------+----------+---------------------+\n",
      "|a9ba6d0cd8586a4f|Android|install   |2016-08-06 19:54:47.0|\n",
      "|7365ac7d0721bbf0|Android|re-install|2016-08-14 16:04:45.0|\n",
      "|4bf1a1368533ad74|Android|uninstall |2016-08-06 17:40:18.0|\n",
      "|8f2a30a777e2714b|Android|install   |2016-08-31 05:25:24.0|\n",
      "|cd002b38b452db4c|Android|install   |2016-08-20 20:19:06.0|\n",
      "+----------------+-------+----------+---------------------+\n",
      "only showing top 5 rows\n",
      "\n"
     ]
    }
   ],
   "source": [
    "uicycles.show(5, truncate = False)"
   ]
  },
  {
   "cell_type": "code",
   "execution_count": 7,
   "metadata": {
    "colab": {
     "base_uri": "https://localhost:8080/"
    },
    "id": "KJ6xqoeP3e1x",
    "outputId": "6a647250-397e-45c5-c850-4ff86086ca29"
   },
   "outputs": [
    {
     "data": {
      "text/plain": [
       "StructType(List(StructField(uuid,StringType,true),StructField(os,StringType,true),StructField(event_type,StringType,true),StructField(creation_date,StringType,true)))"
      ]
     },
     "execution_count": 7,
     "metadata": {},
     "output_type": "execute_result"
    }
   ],
   "source": [
    "uicycles.schema"
   ]
  },
  {
   "cell_type": "code",
   "execution_count": null,
   "metadata": {
    "id": "QDRlgTfo3e1z"
   },
   "outputs": [],
   "source": [
    "#import pandas as pd\n",
    "#pandas_df = pd.read_csv('eventdump.csv')\n",
    "#eventdump = spark.createDataFrame(pandas_df)\n",
    "#eventdump.show(5, truncate=False)"
   ]
  },
  {
   "cell_type": "code",
   "execution_count": null,
   "metadata": {
    "id": "mSe2tmQI3e10"
   },
   "outputs": [],
   "source": [
    "#from pyspark.sql.types import StructField, StructType, StringType, MapType\n",
    "#sch = StructType([\n",
    "#    StructField('uuid', StringType(), True),\n",
    "#    StructField('event', StringType(), True),\n",
    "#    StructField('event_timestamp', StringType(), True),\n",
    "#    StructField('properties', MapType(StringType(),StringType()),True)\n",
    "#])"
   ]
  },
  {
   "cell_type": "code",
   "execution_count": 102,
   "metadata": {
    "id": "utjl_nPm3e12"
   },
   "outputs": [],
   "source": [
    "eventdump=spark.read.format('csv').option('header','True').option('escape','\"').load(\"eventdump.csv\")"
   ]
  },
  {
   "cell_type": "code",
   "execution_count": 103,
   "metadata": {
    "colab": {
     "base_uri": "https://localhost:8080/"
    },
    "id": "Fkkgm7Ca3e13",
    "outputId": "2aee0803-a516-4965-ee4f-6a71cf8be853"
   },
   "outputs": [
    {
     "name": "stdout",
     "output_type": "stream",
     "text": [
      "+----------------+--------------------------+---------------+----------------------------------------------------------------------------------------------------------------------+\n",
      "|uuid            |event                     |event_timestamp|properties                                                                                                            |\n",
      "+----------------+--------------------------+---------------+----------------------------------------------------------------------------------------------------------------------+\n",
      "|43e1796c34ac2a91|Cart is viewed            |07:56.9        |{\"email_id\": \"careers24@gmail.com\", \"timeStamp\": \"29-08-2016 07:43:10\", \"No Of Products\": 1, \"Cart Value\": \"1495\"}    |\n",
      "|3065bf9960737af |Cart is viewed            |04:00.1        |{\"email_id\": \"devangnipathak@gmail.com\", \"timeStamp\": \"29-08-2016 08:39:03\", \"No Of Products\": 4, \"Cart Value\": \"877\"}|\n",
      "|636677073e9445e3|Search results page viewed|26:23.2        |{\"category\": \"Panties\", \"timeStamp\": \"29-08-2016 06:00:27\"}                                                           |\n",
      "|75f156f9584ffccf|Push notification received|31:20.9        |{\"timeStamp\": \"29-08-2016 08:05:40\"}                                                                                  |\n",
      "|651557edb4a564b0|Search is initiated       |12:53.3        |{\"search_query\": \"bra for 19 years old \", \"timeStamp\": \"29-08-2016 08:49:57\"}                                         |\n",
      "+----------------+--------------------------+---------------+----------------------------------------------------------------------------------------------------------------------+\n",
      "only showing top 5 rows\n",
      "\n"
     ]
    }
   ],
   "source": [
    "eventdump.show(5, truncate = False)"
   ]
  },
  {
   "cell_type": "code",
   "execution_count": 104,
   "metadata": {
    "id": "290XfLw83e15"
   },
   "outputs": [],
   "source": [
    "eventdump_exp = eventdump.withColumn(\"properties\", explode(split(col(\"properties\"), \", \"))).withColumn(\"key\", split(col(\"properties\"), \"\\\":\").getItem(0)).withColumn(\"value\", split(col(\"properties\"), \"\\\":\").getItem(1)).withColumn(\"properties\", create_map(col(\"key\"), col(\"value\")))"
   ]
  },
  {
   "cell_type": "code",
   "execution_count": 105,
   "metadata": {
    "colab": {
     "base_uri": "https://localhost:8080/"
    },
    "id": "jIWaegbt3e16",
    "outputId": "ad2908f8-2f3a-4a15-8fef-1824e95b9410"
   },
   "outputs": [
    {
     "name": "stdout",
     "output_type": "stream",
     "text": [
      "+----------------+--------------+---------------+-------------------------------------------+---------------+---------------------------+\n",
      "|uuid            |event         |event_timestamp|properties                                 |key            |value                      |\n",
      "+----------------+--------------+---------------+-------------------------------------------+---------------+---------------------------+\n",
      "|43e1796c34ac2a91|Cart is viewed|07:56.9        |{{\"email_id ->  \"careers24@gmail.com\"}     |{\"email_id     | \"careers24@gmail.com\"     |\n",
      "|43e1796c34ac2a91|Cart is viewed|07:56.9        |{\"timeStamp ->  \"29-08-2016 07:43:10\"}     |\"timeStamp     | \"29-08-2016 07:43:10\"     |\n",
      "|43e1796c34ac2a91|Cart is viewed|07:56.9        |{\"No Of Products ->  1}                    |\"No Of Products| 1                         |\n",
      "|43e1796c34ac2a91|Cart is viewed|07:56.9        |{\"Cart Value ->  \"1495\"}}                  |\"Cart Value    | \"1495\"}                   |\n",
      "|3065bf9960737af |Cart is viewed|04:00.1        |{{\"email_id ->  \"devangnipathak@gmail.com\"}|{\"email_id     | \"devangnipathak@gmail.com\"|\n",
      "+----------------+--------------+---------------+-------------------------------------------+---------------+---------------------------+\n",
      "only showing top 5 rows\n",
      "\n"
     ]
    }
   ],
   "source": [
    "eventdump_exp.show(5, truncate=False)"
   ]
  },
  {
   "cell_type": "code",
   "execution_count": 106,
   "metadata": {
    "id": "r4FvuH8y3e17"
   },
   "outputs": [],
   "source": [
    "#clean-up columns key & value\n",
    "eventdump_exp1 = eventdump_exp.withColumn('key', regexp_replace('key', '^\\{|\\\"', '')).withColumn('value', regexp_replace('value', '\\}$|\\\"', ''))"
   ]
  },
  {
   "cell_type": "code",
   "execution_count": 107,
   "metadata": {
    "colab": {
     "base_uri": "https://localhost:8080/"
    },
    "id": "8F02ysHm6KfP",
    "outputId": "c1127ffa-3958-4901-9891-210523e86672"
   },
   "outputs": [
    {
     "name": "stdout",
     "output_type": "stream",
     "text": [
      "+----------------+--------------+---------------+-------------------------------------------+--------------+-------------------------+\n",
      "|uuid            |event         |event_timestamp|properties                                 |key           |value                    |\n",
      "+----------------+--------------+---------------+-------------------------------------------+--------------+-------------------------+\n",
      "|43e1796c34ac2a91|Cart is viewed|07:56.9        |{{\"email_id ->  \"careers24@gmail.com\"}     |email_id      | careers24@gmail.com     |\n",
      "|43e1796c34ac2a91|Cart is viewed|07:56.9        |{\"timeStamp ->  \"29-08-2016 07:43:10\"}     |timeStamp     | 29-08-2016 07:43:10     |\n",
      "|43e1796c34ac2a91|Cart is viewed|07:56.9        |{\"No Of Products ->  1}                    |No Of Products| 1                       |\n",
      "|43e1796c34ac2a91|Cart is viewed|07:56.9        |{\"Cart Value ->  \"1495\"}}                  |Cart Value    | 1495                    |\n",
      "|3065bf9960737af |Cart is viewed|04:00.1        |{{\"email_id ->  \"devangnipathak@gmail.com\"}|email_id      | devangnipathak@gmail.com|\n",
      "+----------------+--------------+---------------+-------------------------------------------+--------------+-------------------------+\n",
      "only showing top 5 rows\n",
      "\n"
     ]
    }
   ],
   "source": [
    "eventdump_exp1.show(5, truncate=False)"
   ]
  },
  {
   "cell_type": "code",
   "execution_count": 108,
   "metadata": {
    "id": "YDmtrK-v3e18"
   },
   "outputs": [],
   "source": [
    "from pyspark.sql import functions as F\n",
    "eventdump_fin = eventdump_exp1.groupby('uuid','event','event_timestamp').pivot('key').agg(F.first('value'))"
   ]
  },
  {
   "cell_type": "code",
   "execution_count": 109,
   "metadata": {
    "colab": {
     "base_uri": "https://localhost:8080/"
    },
    "id": "JagWQmPo7b7W",
    "outputId": "6807d773-6728-41c3-82cb-ae60dbe3b643"
   },
   "outputs": [
    {
     "name": "stdout",
     "output_type": "stream",
     "text": [
      "root\n",
      " |-- uuid: string (nullable = true)\n",
      " |-- event: string (nullable = true)\n",
      " |-- event_timestamp: string (nullable = true)\n",
      " |-- : string (nullable = true)\n",
      " |-- 2xl,l size in inches: string (nullable = true)\n",
      " |-- 2xl,l size in inches}: string (nullable = true)\n",
      " |-- Brand Name: string (nullable = true)\n",
      " |-- Cart Value: string (nullable = true)\n",
      " |-- Category: string (nullable = true)\n",
      " |-- Login From: string (nullable = true)\n",
      " |-- Login Type: string (nullable = true)\n",
      " |-- No Of Products: string (nullable = true)\n",
      " |-- PINCode Status: string (nullable = true)\n",
      " |-- PUSH MESSAGE: string (nullable = true)\n",
      " |-- PinCode: string (nullable = true)\n",
      " |-- Product Name: string (nullable = true)\n",
      " |-- Product SKU: string (nullable = true)\n",
      " |-- Search Query: string (nullable = true)\n",
      " |-- Search String: string (nullable = true)\n",
      " |-- SignIn From: string (nullable = true)\n",
      " |-- SignIn Type: string (nullable = true)\n",
      " |-- Sub-Category name: string (nullable = true)\n",
      " |-- adid=[120565720720]: string (nullable = true)\n",
      " |-- brandSwitch=[zivame]: string (nullable = true)\n",
      " |-- broad strap: string (nullable = true)\n",
      " |-- broad strap}: string (nullable = true)\n",
      " |-- cat_name: string (nullable = true)\n",
      " |-- category: string (nullable = true)\n",
      " |-- categoryname: string (nullable = true)\n",
      " |-- clicked_banner_position: string (nullable = true)\n",
      " |-- cussku=[B25448-Black%20With%20Pink,B25448-Turquoise,B25448-Ivory,CB25459-Black]: string (nullable = true)\n",
      " |-- cussku=[B65445-Blue%20Aqua,B65570H2-Coral%20Print,B65570H2-Grey,B64848-Skin]: string (nullable = true)\n",
      " |-- cussku=[BA11660-Leopard%20Printed,PNBRFS16-Pink,BA12552-Black,PNBRFS16-Skin]: string (nullable = true)\n",
      " |-- cussku=[BA11660-Leopard%20Printed,PNBRFS16-Pink,BA12552-Black,PNBRFS16-Skin]}}: string (nullable = true)\n",
      " |-- cussku=[MZR2-Turkisk+Tile%2CMZR2-Roebuck+Skin%2CMZR2-Calypso+Coral]: string (nullable = true)\n",
      " |-- cussku=[PEDGY24%20-%20Fuschia,618084%20-%20Black,PYPCBS02%20-%20Dandy%20Yellow,618084%20-%20Passion%20Punch]: string (nullable = true)\n",
      " |-- cussku=[TG04-White%20with%20Red,PYAWL31-Blue%20Light,PYAWL25-Cyclamen,Penny%204-Red]: string (nullable = true)\n",
      " |-- cussku=[TG04-White%20with%20Red,PYAWL31-Blue%20Light,PYAWL25-Cyclamen,Penny%204-Red]}}: string (nullable = true)\n",
      " |-- cussku=[ZSWP0749-Grey%2CZSWP0748-Black%2CZSWP0747-Navy%2CZSWP0747-Black%2CZSWP0749-Grey%2CZSWP0749-Navy]: string (nullable = true)\n",
      " |-- dir=[asc]: string (nullable = true)\n",
      " |-- dir=[desc]: string (nullable = true)\n",
      " |-- dir=[desc]}}: string (nullable = true)\n",
      " |-- discount: string (nullable = true)\n",
      " |-- email: string (nullable = true)\n",
      " |-- email_id: string (nullable = true)\n",
      " |-- gid=[1]: string (nullable = true)\n",
      " |-- grand_total: string (nullable = true)\n",
      " |-- link_click_id=[186761740401313586]}}: string (nullable = true)\n",
      " |-- link_click_id=[187554268855731552]}}: string (nullable = true)\n",
      " |-- link_click_id=[192755013125211954]}}: string (nullable = true)\n",
      " |-- link_click_id=[194378592010963499]}}: string (nullable = true)\n",
      " |-- link_click_id=[224334951540129637]}}: string (nullable = true)\n",
      " |-- link_click_id=[228921785465240654]}}: string (nullable = true)\n",
      " |-- link_click_id=[238617326362251028]}}: string (nullable = true)\n",
      " |-- link_click_id=[240160118667917010]}}: string (nullable = true)\n",
      " |-- link_click_id=[247732938665966953]}}: string (nullable = true)\n",
      " |-- link_click_id=[250955558759868335]}}: string (nullable = true)\n",
      " |-- link_click_id=[261488099681290312]}}: string (nullable = true)\n",
      " |-- link_click_id=[262260429851070095]}}: string (nullable = true)\n",
      " |-- link_click_id=[262598108988049764]}}: string (nullable = true)\n",
      " |-- link_click_id=[262856832255671258]}}: string (nullable = true)\n",
      " |-- link_click_id=[265041233310763833]}}: string (nullable = true)\n",
      " |-- link_click_id=[266126195699132313]}}: string (nullable = true)\n",
      " |-- link_click_id=[269018626990024678]}}: string (nullable = true)\n",
      " |-- link_click_id=[272400969246595213]}}: string (nullable = true)\n",
      " |-- link_click_id=[279157105253678379]}}: string (nullable = true)\n",
      " |-- link_click_id=[284138192833757155]}}: string (nullable = true)\n",
      " |-- link_click_id=[284158992704880538]}}: string (nullable = true)\n",
      " |-- link_click_id=[285075958970313400]}}: string (nullable = true)\n",
      " |-- link_click_id=[285195366860430228]}}: string (nullable = true)\n",
      " |-- link_click_id=[286032564054458740]}}: string (nullable = true)\n",
      " |-- link_click_id=[286217929310089507]}}: string (nullable = true)\n",
      " |-- link_click_id=[286330813777943132]}}: string (nullable = true)\n",
      " |-- link_click_id=[287072729690153174]}}: string (nullable = true)\n",
      " |-- link_click_id=[287444766569442617]}}: string (nullable = true)\n",
      " |-- link_click_id=[287916073416158860]}}: string (nullable = true)\n",
      " |-- link_click_id=[287958477842391682]}}: string (nullable = true)\n",
      " |-- link_click_id=[287975820116029511]}}: string (nullable = true)\n",
      " |-- link_click_id=[288311496515701145]}}: string (nullable = true)\n",
      " |-- link_click_id=[288383453296458178]}}: string (nullable = true)\n",
      " |-- link_click_id=[288529717128288311]}}: string (nullable = true)\n",
      " |-- link_click_id=[289616965581087482]}}: string (nullable = true)\n",
      " |-- link_click_id=[291470342073294634]}}: string (nullable = true)\n",
      " |-- link_click_id=[291572202952794321]}}: string (nullable = true)\n",
      " |-- link_click_id=[292530729314768560]}}: string (nullable = true)\n",
      " |-- link_click_id=[292665271775187173]}}: string (nullable = true)\n",
      " |-- link_click_id=[292880484533414127]}}: string (nullable = true)\n",
      " |-- link_click_id=[293056595710185228]}}: string (nullable = true)\n",
      " |-- link_click_id=[293293301155866311]}}: string (nullable = true)\n",
      " |-- link_click_id=[293444641076346415]}}: string (nullable = true)\n",
      " |-- link_click_id=[293550559437752449]}}: string (nullable = true)\n",
      " |-- link_click_id=[293660984650237765]}}: string (nullable = true)\n",
      " |-- link_click_id=[293758931971395992]}}: string (nullable = true)\n",
      " |-- link_click_id=[294703710814521082]}}: string (nullable = true)\n",
      " |-- link_click_id=[295237644839276785]}}: string (nullable = true)\n",
      " |-- link_click_id=[295542405995892285]: string (nullable = true)\n",
      " |-- link_click_id=[295663293259674065]}}: string (nullable = true)\n",
      " |-- link_click_id=[296296274760046951]}}: string (nullable = true)\n",
      " |-- link_click_id=[296536491633590811]}}: string (nullable = true)\n",
      " |-- link_click_id=[296825581192497817]: string (nullable = true)\n",
      " |-- link_click_id=[296902135540189583]: string (nullable = true)\n",
      " |-- link_click_id=[297329640832169886]}}: string (nullable = true)\n",
      " |-- link_click_id=[297445388244616267]}}: string (nullable = true)\n",
      " |-- link_click_id=[297506718860696429]}}: string (nullable = true)\n",
      " |-- link_click_id=[297555109926892757]}}: string (nullable = true)\n",
      " |-- link_click_id=[297632551747109496]}}: string (nullable = true)\n",
      " |-- link_click_id=[297634116901486717]}}: string (nullable = true)\n",
      " |-- link_click_id=[297650946788315090]}}: string (nullable = true)\n",
      " |-- link_click_id=[297749203710054038]}}: string (nullable = true)\n",
      " |-- link_click_id=[297960096200386454]}}: string (nullable = true)\n",
      " |-- link_click_id=[298019288124260781]}}: string (nullable = true)\n",
      " |-- link_click_id=[298020932985322262]}}: string (nullable = true)\n",
      " |-- link_click_id=[298027951426057536]}}: string (nullable = true)\n",
      " |-- link_click_id=[298051143806222860]}}: string (nullable = true)\n",
      " |-- link_click_id=[298086813751975070]}}: string (nullable = true)\n",
      " |-- link_click_id=[298098008237810588]}}: string (nullable = true)\n",
      " |-- link_click_id=[298139946773205341]}}: string (nullable = true)\n",
      " |-- link_click_id=[298156750573964499]}}: string (nullable = true)\n",
      " |-- link_click_id=[298186968936149908]}}: string (nullable = true)\n",
      " |-- link_click_id=[298330346927446481]}}: string (nullable = true)\n",
      " |-- link_click_id=[298411669010746855]}}: string (nullable = true)\n",
      " |-- link_click_id=[298411936021900407]}}: string (nullable = true)\n",
      " |-- link_click_id=[298426971897764671]}}: string (nullable = true)\n",
      " |-- link_click_id=[298707730471119112]}}: string (nullable = true)\n",
      " |-- link_click_id=[298840424031877963]}}: string (nullable = true)\n",
      " |-- link_click_id=[298961529484206522]}}: string (nullable = true)\n",
      " |-- link_click_id=[299056367891026839]}}: string (nullable = true)\n",
      " |-- link_click_id=[299125394088887047]}}: string (nullable = true)\n",
      " |-- link_click_id=[299202532773557266]}}: string (nullable = true)\n",
      " |-- link_click_id=[299370342325588337]}}: string (nullable = true)\n",
      " |-- link_click_id=[299385735620532715]}}: string (nullable = true)\n",
      " |-- link_click_id=[299522723125921190]}}: string (nullable = true)\n",
      " |-- link_click_id=[299554299345351850]}}: string (nullable = true)\n",
      " |-- link_click_id=[299561364262628585]}}: string (nullable = true)\n",
      " |-- link_click_id=[299561756287219218]}}: string (nullable = true)\n",
      " |-- link_click_id=[299587399692648814]}}: string (nullable = true)\n",
      " |-- non wired bra: string (nullable = true)\n",
      " |-- non wired bra}: string (nullable = true)\n",
      " |-- nonwired: string (nullable = true)\n",
      " |-- nonwired}: string (nullable = true)\n",
      " |-- ns_cart_amount: string (nullable = true)\n",
      " |-- ns_cart_price: string (nullable = true)\n",
      " |-- order=[bestsellersUID%3DDiscountandyoucom5370]: string (nullable = true)\n",
      " |-- order=[bestsellers]: string (nullable = true)\n",
      " |-- order=[created_at]: string (nullable = true)\n",
      " |-- order=[price]: string (nullable = true)\n",
      " |-- orderId: string (nullable = true)\n",
      " |-- payment_mode: string (nullable = true)\n",
      " |-- pid=[1]: string (nullable = true)\n",
      " |-- pin_code: string (nullable = true)\n",
      " |-- pincode: string (nullable = true)\n",
      " |-- price=[1%2c500]: string (nullable = true)\n",
      " |-- push_token: string (nullable = true)\n",
      " |-- search_query: string (nullable = true)\n",
      " |-- shipping: string (nullable = true)\n",
      " |-- size 34DD: string (nullable = true)\n",
      " |-- size 34DD}: string (nullable = true)\n",
      " |-- status: string (nullable = true)\n",
      " |-- subtotal: string (nullable = true)\n",
      " |-- timeStamp: string (nullable = true)\n",
      " |-- total: string (nullable = true)\n",
      " |-- ts: string (nullable = true)\n",
      " |-- user_coming_from: string (nullable = true)\n",
      " |-- user_login_type: string (nullable = true)\n",
      " |-- utm_banner_source=[endofsanity_eoss_19_07_16]: string (nullable = true)\n",
      " |-- utm_banner_source=[shop999_getfreeapparel_01_06_16]: string (nullable = true)\n",
      " |-- utm_campaign=[12_3for999lfh_nbbtier1_22_08]: string (nullable = true)\n",
      " |-- utm_campaign=[22_csp_bogolch_26_08]: string (nullable = true)\n",
      " |-- utm_campaign=[22_fam_bogolch_26_08]: string (nullable = true)\n",
      " |-- utm_campaign=[22_nbb_bogoendsoon_28_08]: string (nullable = true)\n",
      " |-- utm_campaign=[22_nbb_bogolch_26_08]: string (nullable = true)\n",
      " |-- utm_campaign=[22_sharp_nbb_4for599_25_08]: string (nullable = true)\n",
      " |-- utm_campaign=[3for999endsoon_new_21_08]: string (nullable = true)\n",
      " |-- utm_campaign=[A-SC-Zivame]: string (nullable = true)\n",
      " |-- utm_campaign=[Bra-Generic-Modifer]: string (nullable = true)\n",
      " |-- utm_campaign=[DPA_All Products_DPA_ATC_15ex7_NFD_ALL]: string (nullable = true)\n",
      " |-- utm_campaign=[DPA_All Products_DPA_ATC_180ex30_NFD_ALL]: string (nullable = true)\n",
      " |-- utm_campaign=[DPA_All+Products_DPA_ATC_15ex7_NFD_ALL]: string (nullable = true)\n",
      " |-- utm_campaign=[DPA_All+Products_DPA_ATC_180ex30_NFD_ALL]: string (nullable = true)\n",
      " |-- utm_campaign=[DPA_All+Products_DPA_ATC_30ex15_NFD_ALL]: string (nullable = true)\n",
      " |-- utm_campaign=[DPA_All+Products_DPA_ATC_7_NFD_ALL]: string (nullable = true)\n",
      " |-- utm_campaign=[DPA_All+Products_DPA_VP_10_NFD_all]: string (nullable = true)\n",
      " |-- utm_campaign=[Dynamic-Search-Ads]: string (nullable = true)\n",
      " |-- utm_campaign=[GenericJune]: string (nullable = true)\n",
      " |-- utm_campaign=[M_-Mob-F-18-65-29Aug2016-17h18m]: string (nullable = true)\n",
      " |-- utm_campaign=[M_35-44_Mob_F_IN_age3544_2015Oct23_13h26m]: string (nullable = true)\n",
      " |-- utm_campaign=[M_BriefBuyers-DRHSMob-F-18-65-26Aug2016-17h15m]: string (nullable = true)\n",
      " |-- utm_campaign=[M_Lapsed_2307-DRHSMob-F-18-65-26Aug2016-17h15m]: string (nullable = true)\n",
      " |-- utm_campaign=[M_LookalikeIN3Audience_RFM-DRHSMob-F-18-65-22Jun2016-15h05m]: string (nullable = true)\n",
      " |-- utm_campaign=[M_LookalikeIN6FB_high_value-DMob-F-24-45-12Aug2016-14h29m]: string (nullable = true)\n",
      " |-- utm_campaign=[M_LookalikeIN7Audience_RFM-DRHSMob-F-18-65-22Jun2016-15h05m]: string (nullable = true)\n",
      " |-- utm_campaign=[M_MixedLookalikeIN1Success_Dmobilefeed_MF_IN_age2455_2015Oct14_14h35m]: string (nullable = true)\n",
      " |-- utm_campaign=[M_NotifyMe_2307-DRHSMob-F-18-65-26Aug2016-17h15m]: string (nullable = true)\n",
      " |-- utm_campaign=[M_avgvalue5001000-DRHSMob-F-23-65-09Aug2016-11h36m]: string (nullable = true)\n",
      " |-- utm_campaign=[M_brabuyers-all-F-18-65-21Jul2016-11h48m]: string (nullable = true)\n",
      " |-- utm_campaign=[M_nightwearbuyers-DRHSMob-F-18-65-26Aug2016-17h15m]: string (nullable = true)\n",
      " |-- utm_campaign=[M_o2-DRHSMob-F-18-65-23Jun2016-12h55m]: string (nullable = true)\n",
      " |-- utm_campaign=[NA]: string (nullable = true)\n",
      " |-- utm_campaign=[PLA]: string (nullable = true)\n",
      " |-- utm_campaign=[Remarketing-New]: string (nullable = true)\n",
      " |-- utm_campaign=[Remarketing-Top-Funnel]: string (nullable = true)\n",
      " |-- utm_campaign=[Zivame-Promo-E]: string (nullable = true)\n",
      " |-- utm_campaign=[Zivame-Promo-PB]: string (nullable = true)\n",
      " |-- utm_campaign=[Zivame-Promo-PB_SL_15-Off-Coupon-PS15]: string (nullable = true)\n",
      " |-- utm_campaign=[bogoendsoon_t1_28_08]: string (nullable = true)\n",
      " |-- utm_campaign=[bogolch_t2_1m_26_08]: string (nullable = true)\n",
      " |-- utm_campaign=[single_coupons_offer_02_04]: string (nullable = true)\n",
      " |-- utm_campaign=[zivameCPS]: string (nullable = true)\n",
      " |-- utm_content=[1]: string (nullable = true)\n",
      " |-- utm_content=[3448f21cf75bbbee989a8262f6006de7]: string (nullable = true)\n",
      " |-- utm_content=[BOGO-Product-Aug]: string (nullable = true)\n",
      " |-- utm_content=[CA_Sale_atc_7_f_14-50_NFD_201608271610_bogo-ad3]: string (nullable = true)\n",
      " |-- utm_content=[M_4for599_Brief_2508-1-25Aug2016-12h33m]: string (nullable = true)\n",
      " |-- utm_content=[M_4for599_Brief_2508-5-25Aug2016-12h33m]: string (nullable = true)\n",
      " |-- utm_content=[M_4for599_Brief_2508-6-25Aug2016-12h33m]: string (nullable = true)\n",
      " |-- utm_content=[M_4for599_Brief_2508-7-25Aug2016-12h33m]: string (nullable = true)\n",
      " |-- utm_content=[M_BOGO_2_2608-0-27Aug2016-19h20m]: string (nullable = true)\n",
      " |-- utm_content=[M_BOGO_2_2608-3-26Aug2016-18h39m]: string (nullable = true)\n",
      " |-- utm_content=[M_BOGO_2_2608-4-26Aug2016-18h39m]: string (nullable = true)\n",
      " |-- utm_content=[M_NoSag_2608-0-26Aug2016-17h15m]: string (nullable = true)\n",
      " |-- utm_content=[M_NoSag_2608-0-29Aug2016-23h54m]: string (nullable = true)\n",
      " |-- utm_content=[M_NoSag_2608-2-26Aug2016-17h15m]: string (nullable = true)\n",
      " |-- utm_content=[M_NoSag_2608-5-26Aug2016-17h15m]: string (nullable = true)\n",
      " |-- utm_content=[M_NoSag_2608-6-26Aug2016-17h15m]: string (nullable = true)\n",
      " |-- utm_content=[M_SareeShapewear_2408-7-24Aug2016-11h25m]: string (nullable = true)\n",
      " |-- utm_content=[NA]: string (nullable = true)\n",
      " |-- utm_content=[social_shopnow]: string (nullable = true)\n",
      " |-- utm_id=[0094f148-e320-4456-941f-af734e07dd17]}}: string (nullable = true)\n",
      " |-- utm_id=[1958e752-f145-4658-9953-1a2db4a924b5]: string (nullable = true)\n",
      " |-- utm_id=[332b6d46-1762-40d4-9f09-4097f2526e1c]: string (nullable = true)\n",
      " |-- utm_id=[6e2aa7f2-e927-4045-baa6-83e4eef914d9]}}: string (nullable = true)\n",
      " |-- utm_id=[6fc6a913-98be-4e41-b30e-4cd742492fa5]: string (nullable = true)\n",
      " |-- utm_id=[84a525e0-6cd6-4fa1-8454-9462609b0a34#]}}: string (nullable = true)\n",
      " |-- utm_id=[eda07c08-19ac-43b3-ab8f-1177a8357154]: string (nullable = true)\n",
      " |-- utm_id=[f5f6d6b4-8d4f-4308-b771-d3b66f6b6f23]: string (nullable = true)\n",
      " |-- utm_medium: string (nullable = true)\n",
      " |-- utm_medium=[DPA]: string (nullable = true)\n",
      " |-- utm_medium=[NA]: string (nullable = true)\n",
      " |-- utm_medium=[bb]: string (nullable = true)\n",
      " |-- utm_medium=[cpc]: string (nullable = true)\n",
      " |-- utm_medium=[lfdesktop-nonfb]: string (nullable = true)\n",
      " |-- utm_medium=[sms]: string (nullable = true)\n",
      " |-- utm_source: string (nullable = true)\n",
      " |-- utm_source=[Affiliates]: string (nullable = true)\n",
      " |-- utm_source=[Googlepla]: string (nullable = true)\n",
      " |-- utm_source=[Googlerem]: string (nullable = true)\n",
      " |-- utm_source=[Googlesearch]: string (nullable = true)\n",
      " |-- utm_source=[NA]: string (nullable = true)\n",
      " |-- utm_source=[NA]}}: string (nullable = true)\n",
      " |-- utm_source=[affiliates]: string (nullable = true)\n",
      " |-- utm_source=[criteo]}}: string (nullable = true)\n",
      " |-- utm_source=[email]: string (nullable = true)\n",
      " |-- utm_source=[email]}}: string (nullable = true)\n",
      " |-- utm_source=[facebook-qg]: string (nullable = true)\n",
      " |-- utm_source=[facebook-qg]}}: string (nullable = true)\n",
      " |-- utm_source=[facebook]: string (nullable = true)\n",
      " |-- utm_source=[facebook_social]: string (nullable = true)\n",
      " |-- utm_term=[%2Bzivame%20offers]: string (nullable = true)\n",
      " |-- utm_term=[%7BKeyword%7D]: string (nullable = true)\n",
      " |-- utm_term=[Bra]: string (nullable = true)\n",
      " |-- utm_term=[Bras#]: string (nullable = true)\n",
      " |-- utm_term=[Buy%20enamor%20%2Bbra%20%2Bonline]: string (nullable = true)\n",
      " |-- utm_term=[DPA_All+Products_DPA_ATC_180ex30_NFD_ALL]: string (nullable = true)\n",
      " |-- utm_term=[DPA_All+Products_DPA_ATC_30ex15_NFD_ALL]: string (nullable = true)\n",
      " |-- utm_term=[DPA_All+Products_DPA_ATC_7_NFD_ALL]: string (nullable = true)\n",
      " |-- utm_term=[DPA_All+Products_DPA_VP_10_NFD_all]: string (nullable = true)\n",
      " |-- utm_term=[Zivame%20bra#]: string (nullable = true)\n",
      " |-- utm_term=[zivame%20coupons]: string (nullable = true)\n",
      " |-- we do not deliver to this pincode.: string (nullable = true)\n",
      " |-- xtm_content=[6047021198215]: string (nullable = true)\n",
      " |-- xtm_content=[6047021204015]: string (nullable = true)\n",
      " |-- xtm_content=[6047021226015]: string (nullable = true)\n",
      " |-- xtm_forward=[utm_source%2Cutm_medium%2Cutm_campaign]: string (nullable = true)\n",
      " |-- z_coins: string (nullable = true)\n",
      " |-- }: string (nullable = true)\n",
      "\n"
     ]
    }
   ],
   "source": [
    "eventdump_fin.printSchema()"
   ]
  },
  {
   "cell_type": "code",
   "execution_count": 110,
   "metadata": {
    "colab": {
     "base_uri": "https://localhost:8080/"
    },
    "id": "DOo2-_ZN7IAC",
    "outputId": "96699275-f3e6-44bb-cc2c-5aa694c46c66"
   },
   "outputs": [
    {
     "name": "stdout",
     "output_type": "stream",
     "text": [
      "+----------------+------------------------+---------------+----+--------------------+---------------------+----------+----------+--------+----------+----------+--------------+--------------+------------+-------+---------------------------------------------------------------------------------------------+--------------------------+------------+-------------+-----------------+-----------+-----------------+-------------------+--------------------+-----------+------------+--------+--------+------------+-----------------------+-------------------------------------------------------------------------------+----------------------------------------------------------------------------+----------------------------------------------------------------------------+------------------------------------------------------------------------------+-------------------------------------------------------------------+------------------------------------------------------------------------------------------------------------+------------------------------------------------------------------------------------+--------------------------------------------------------------------------------------+--------------------------------------------------------------------------------------------------------+---------+----------+------------+--------+-----+--------+-------+-----------+------------------------------------+------------------------------------+------------------------------------+------------------------------------+------------------------------------+------------------------------------+------------------------------------+------------------------------------+------------------------------------+------------------------------------+------------------------------------+------------------------------------+------------------------------------+------------------------------------+------------------------------------+------------------------------------+------------------------------------+------------------------------------+------------------------------------+------------------------------------+------------------------------------+------------------------------------+------------------------------------+------------------------------------+------------------------------------+------------------------------------+------------------------------------+------------------------------------+------------------------------------+------------------------------------+------------------------------------+------------------------------------+------------------------------------+------------------------------------+------------------------------------+------------------------------------+------------------------------------+------------------------------------+------------------------------------+------------------------------------+------------------------------------+------------------------------------+------------------------------------+------------------------------------+------------------------------------+------------------------------------+------------------------------------+------------------------------------+----------------------------------+------------------------------------+------------------------------------+------------------------------------+----------------------------------+----------------------------------+------------------------------------+------------------------------------+------------------------------------+------------------------------------+------------------------------------+------------------------------------+------------------------------------+------------------------------------+------------------------------------+------------------------------------+------------------------------------+------------------------------------+------------------------------------+------------------------------------+------------------------------------+------------------------------------+------------------------------------+------------------------------------+------------------------------------+------------------------------------+------------------------------------+------------------------------------+------------------------------------+------------------------------------+------------------------------------+------------------------------------+------------------------------------+------------------------------------+------------------------------------+------------------------------------+------------------------------------+------------------------------------+------------------------------------+------------------------------------+------------------------------------+-------------+--------------+--------+---------+--------------+-------------+----------------------------------------------+-------------------+------------------+-------------+-------+------------+-------+--------+-------+---------------+---------------------------------------------------------------------------------------------------------------------------------------------+------------+--------+---------+----------+------+--------+--------------------+-----+----+----------------+---------------+---------------------------------------------+---------------------------------------------------+-------------------------------------------+-----------------------------------+-----------------------------------+---------------------------------------+-----------------------------------+-----------------------------------------+---------------------------------------+--------------------------+----------------------------------+-----------------------------------------------------+-------------------------------------------------------+-----------------------------------------------------+-------------------------------------------------------+------------------------------------------------------+-------------------------------------------------+-------------------------------------------------+---------------------------------+--------------------------+----------------------------------------------+--------------------------------------------------------+-------------------------------------------------------------+-------------------------------------------------------------+--------------------------------------------------------------------------+------------------------------------------------------------------------+--------------------------------------------------------------------------+------------------------------------------------------------------------------------+---------------------------------------------------------------+-----------------------------------------------------------------+-------------------------------------------------------+-----------------------------------------------------------------+----------------------------------------------------+-----------------+------------------+------------------------------+-------------------------------------+-----------------------------+------------------------------+----------------------------------------------------+-----------------------------------+----------------------------------+-----------------------------------------+------------------------+---------------+----------------------------------------------+------------------------------+-------------------------------------------------------------+-----------------------------------------------------+-----------------------------------------------------+-----------------------------------------------------+-----------------------------------------------------+----------------------------------------------+----------------------------------------------+----------------------------------------------+---------------------------------------------+---------------------------------------------+---------------------------------------------+---------------------------------------------+---------------------------------------------+------------------------------------------------------+----------------+----------------------------+-----------------------------------------------+---------------------------------------------+---------------------------------------------+-----------------------------------------------+---------------------------------------------+------------------------------------------------+---------------------------------------------+---------------------------------------------+----------+----------------+---------------+---------------+----------------+----------------------------+----------------+----------+-----------------------+----------------------+----------------------+-------------------------+---------------+-----------------+-----------------------+---------------------+------------------+--------------------+------------------------+--------------------------+---------------------+----------------------------+-----------------------------+------------------------+--------------+----------------+--------------------------------------------+---------------------------------------------------+--------------------------------------------------+---------------------------------------------+---------------------------------------------+------------------------+---------------------------+----------------------------------+---------------------------+---------------------------+---------------------------+----------------------------------------------------+-------+----+\n",
      "|uuid            |event                   |event_timestamp|    |2xl,l size in inches|2xl,l size in inches}|Brand Name|Cart Value|Category|Login From|Login Type|No Of Products|PINCode Status|PUSH MESSAGE|PinCode|Product Name                                                                                 |Product SKU               |Search Query|Search String|SignIn From      |SignIn Type|Sub-Category name|adid=[120565720720]|brandSwitch=[zivame]|broad strap|broad strap}|cat_name|category|categoryname|clicked_banner_position|cussku=[B25448-Black%20With%20Pink,B25448-Turquoise,B25448-Ivory,CB25459-Black]|cussku=[B65445-Blue%20Aqua,B65570H2-Coral%20Print,B65570H2-Grey,B64848-Skin]|cussku=[BA11660-Leopard%20Printed,PNBRFS16-Pink,BA12552-Black,PNBRFS16-Skin]|cussku=[BA11660-Leopard%20Printed,PNBRFS16-Pink,BA12552-Black,PNBRFS16-Skin]}}|cussku=[MZR2-Turkisk+Tile%2CMZR2-Roebuck+Skin%2CMZR2-Calypso+Coral]|cussku=[PEDGY24%20-%20Fuschia,618084%20-%20Black,PYPCBS02%20-%20Dandy%20Yellow,618084%20-%20Passion%20Punch]|cussku=[TG04-White%20with%20Red,PYAWL31-Blue%20Light,PYAWL25-Cyclamen,Penny%204-Red]|cussku=[TG04-White%20with%20Red,PYAWL31-Blue%20Light,PYAWL25-Cyclamen,Penny%204-Red]}}|cussku=[ZSWP0749-Grey%2CZSWP0748-Black%2CZSWP0747-Navy%2CZSWP0747-Black%2CZSWP0749-Grey%2CZSWP0749-Navy]|dir=[asc]|dir=[desc]|dir=[desc]}}|discount|email|email_id|gid=[1]|grand_total|link_click_id=[186761740401313586]}}|link_click_id=[187554268855731552]}}|link_click_id=[192755013125211954]}}|link_click_id=[194378592010963499]}}|link_click_id=[224334951540129637]}}|link_click_id=[228921785465240654]}}|link_click_id=[238617326362251028]}}|link_click_id=[240160118667917010]}}|link_click_id=[247732938665966953]}}|link_click_id=[250955558759868335]}}|link_click_id=[261488099681290312]}}|link_click_id=[262260429851070095]}}|link_click_id=[262598108988049764]}}|link_click_id=[262856832255671258]}}|link_click_id=[265041233310763833]}}|link_click_id=[266126195699132313]}}|link_click_id=[269018626990024678]}}|link_click_id=[272400969246595213]}}|link_click_id=[279157105253678379]}}|link_click_id=[284138192833757155]}}|link_click_id=[284158992704880538]}}|link_click_id=[285075958970313400]}}|link_click_id=[285195366860430228]}}|link_click_id=[286032564054458740]}}|link_click_id=[286217929310089507]}}|link_click_id=[286330813777943132]}}|link_click_id=[287072729690153174]}}|link_click_id=[287444766569442617]}}|link_click_id=[287916073416158860]}}|link_click_id=[287958477842391682]}}|link_click_id=[287975820116029511]}}|link_click_id=[288311496515701145]}}|link_click_id=[288383453296458178]}}|link_click_id=[288529717128288311]}}|link_click_id=[289616965581087482]}}|link_click_id=[291470342073294634]}}|link_click_id=[291572202952794321]}}|link_click_id=[292530729314768560]}}|link_click_id=[292665271775187173]}}|link_click_id=[292880484533414127]}}|link_click_id=[293056595710185228]}}|link_click_id=[293293301155866311]}}|link_click_id=[293444641076346415]}}|link_click_id=[293550559437752449]}}|link_click_id=[293660984650237765]}}|link_click_id=[293758931971395992]}}|link_click_id=[294703710814521082]}}|link_click_id=[295237644839276785]}}|link_click_id=[295542405995892285]|link_click_id=[295663293259674065]}}|link_click_id=[296296274760046951]}}|link_click_id=[296536491633590811]}}|link_click_id=[296825581192497817]|link_click_id=[296902135540189583]|link_click_id=[297329640832169886]}}|link_click_id=[297445388244616267]}}|link_click_id=[297506718860696429]}}|link_click_id=[297555109926892757]}}|link_click_id=[297632551747109496]}}|link_click_id=[297634116901486717]}}|link_click_id=[297650946788315090]}}|link_click_id=[297749203710054038]}}|link_click_id=[297960096200386454]}}|link_click_id=[298019288124260781]}}|link_click_id=[298020932985322262]}}|link_click_id=[298027951426057536]}}|link_click_id=[298051143806222860]}}|link_click_id=[298086813751975070]}}|link_click_id=[298098008237810588]}}|link_click_id=[298139946773205341]}}|link_click_id=[298156750573964499]}}|link_click_id=[298186968936149908]}}|link_click_id=[298330346927446481]}}|link_click_id=[298411669010746855]}}|link_click_id=[298411936021900407]}}|link_click_id=[298426971897764671]}}|link_click_id=[298707730471119112]}}|link_click_id=[298840424031877963]}}|link_click_id=[298961529484206522]}}|link_click_id=[299056367891026839]}}|link_click_id=[299125394088887047]}}|link_click_id=[299202532773557266]}}|link_click_id=[299370342325588337]}}|link_click_id=[299385735620532715]}}|link_click_id=[299522723125921190]}}|link_click_id=[299554299345351850]}}|link_click_id=[299561364262628585]}}|link_click_id=[299561756287219218]}}|link_click_id=[299587399692648814]}}|non wired bra|non wired bra}|nonwired|nonwired}|ns_cart_amount|ns_cart_price|order=[bestsellersUID%3DDiscountandyoucom5370]|order=[bestsellers]|order=[created_at]|order=[price]|orderId|payment_mode|pid=[1]|pin_code|pincode|price=[1%2c500]|push_token                                                                                                                                   |search_query|shipping|size 34DD|size 34DD}|status|subtotal|timeStamp           |total|ts  |user_coming_from|user_login_type|utm_banner_source=[endofsanity_eoss_19_07_16]|utm_banner_source=[shop999_getfreeapparel_01_06_16]|utm_campaign=[12_3for999lfh_nbbtier1_22_08]|utm_campaign=[22_csp_bogolch_26_08]|utm_campaign=[22_fam_bogolch_26_08]|utm_campaign=[22_nbb_bogoendsoon_28_08]|utm_campaign=[22_nbb_bogolch_26_08]|utm_campaign=[22_sharp_nbb_4for599_25_08]|utm_campaign=[3for999endsoon_new_21_08]|utm_campaign=[A-SC-Zivame]|utm_campaign=[Bra-Generic-Modifer]|utm_campaign=[DPA_All Products_DPA_ATC_15ex7_NFD_ALL]|utm_campaign=[DPA_All Products_DPA_ATC_180ex30_NFD_ALL]|utm_campaign=[DPA_All+Products_DPA_ATC_15ex7_NFD_ALL]|utm_campaign=[DPA_All+Products_DPA_ATC_180ex30_NFD_ALL]|utm_campaign=[DPA_All+Products_DPA_ATC_30ex15_NFD_ALL]|utm_campaign=[DPA_All+Products_DPA_ATC_7_NFD_ALL]|utm_campaign=[DPA_All+Products_DPA_VP_10_NFD_all]|utm_campaign=[Dynamic-Search-Ads]|utm_campaign=[GenericJune]|utm_campaign=[M_-Mob-F-18-65-29Aug2016-17h18m]|utm_campaign=[M_35-44_Mob_F_IN_age3544_2015Oct23_13h26m]|utm_campaign=[M_BriefBuyers-DRHSMob-F-18-65-26Aug2016-17h15m]|utm_campaign=[M_Lapsed_2307-DRHSMob-F-18-65-26Aug2016-17h15m]|utm_campaign=[M_LookalikeIN3Audience_RFM-DRHSMob-F-18-65-22Jun2016-15h05m]|utm_campaign=[M_LookalikeIN6FB_high_value-DMob-F-24-45-12Aug2016-14h29m]|utm_campaign=[M_LookalikeIN7Audience_RFM-DRHSMob-F-18-65-22Jun2016-15h05m]|utm_campaign=[M_MixedLookalikeIN1Success_Dmobilefeed_MF_IN_age2455_2015Oct14_14h35m]|utm_campaign=[M_NotifyMe_2307-DRHSMob-F-18-65-26Aug2016-17h15m]|utm_campaign=[M_avgvalue5001000-DRHSMob-F-23-65-09Aug2016-11h36m]|utm_campaign=[M_brabuyers-all-F-18-65-21Jul2016-11h48m]|utm_campaign=[M_nightwearbuyers-DRHSMob-F-18-65-26Aug2016-17h15m]|utm_campaign=[M_o2-DRHSMob-F-18-65-23Jun2016-12h55m]|utm_campaign=[NA]|utm_campaign=[PLA]|utm_campaign=[Remarketing-New]|utm_campaign=[Remarketing-Top-Funnel]|utm_campaign=[Zivame-Promo-E]|utm_campaign=[Zivame-Promo-PB]|utm_campaign=[Zivame-Promo-PB_SL_15-Off-Coupon-PS15]|utm_campaign=[bogoendsoon_t1_28_08]|utm_campaign=[bogolch_t2_1m_26_08]|utm_campaign=[single_coupons_offer_02_04]|utm_campaign=[zivameCPS]|utm_content=[1]|utm_content=[3448f21cf75bbbee989a8262f6006de7]|utm_content=[BOGO-Product-Aug]|utm_content=[CA_Sale_atc_7_f_14-50_NFD_201608271610_bogo-ad3]|utm_content=[M_4for599_Brief_2508-1-25Aug2016-12h33m]|utm_content=[M_4for599_Brief_2508-5-25Aug2016-12h33m]|utm_content=[M_4for599_Brief_2508-6-25Aug2016-12h33m]|utm_content=[M_4for599_Brief_2508-7-25Aug2016-12h33m]|utm_content=[M_BOGO_2_2608-0-27Aug2016-19h20m]|utm_content=[M_BOGO_2_2608-3-26Aug2016-18h39m]|utm_content=[M_BOGO_2_2608-4-26Aug2016-18h39m]|utm_content=[M_NoSag_2608-0-26Aug2016-17h15m]|utm_content=[M_NoSag_2608-0-29Aug2016-23h54m]|utm_content=[M_NoSag_2608-2-26Aug2016-17h15m]|utm_content=[M_NoSag_2608-5-26Aug2016-17h15m]|utm_content=[M_NoSag_2608-6-26Aug2016-17h15m]|utm_content=[M_SareeShapewear_2408-7-24Aug2016-11h25m]|utm_content=[NA]|utm_content=[social_shopnow]|utm_id=[0094f148-e320-4456-941f-af734e07dd17]}}|utm_id=[1958e752-f145-4658-9953-1a2db4a924b5]|utm_id=[332b6d46-1762-40d4-9f09-4097f2526e1c]|utm_id=[6e2aa7f2-e927-4045-baa6-83e4eef914d9]}}|utm_id=[6fc6a913-98be-4e41-b30e-4cd742492fa5]|utm_id=[84a525e0-6cd6-4fa1-8454-9462609b0a34#]}}|utm_id=[eda07c08-19ac-43b3-ab8f-1177a8357154]|utm_id=[f5f6d6b4-8d4f-4308-b771-d3b66f6b6f23]|utm_medium|utm_medium=[DPA]|utm_medium=[NA]|utm_medium=[bb]|utm_medium=[cpc]|utm_medium=[lfdesktop-nonfb]|utm_medium=[sms]|utm_source|utm_source=[Affiliates]|utm_source=[Googlepla]|utm_source=[Googlerem]|utm_source=[Googlesearch]|utm_source=[NA]|utm_source=[NA]}}|utm_source=[affiliates]|utm_source=[criteo]}}|utm_source=[email]|utm_source=[email]}}|utm_source=[facebook-qg]|utm_source=[facebook-qg]}}|utm_source=[facebook]|utm_source=[facebook_social]|utm_term=[%2Bzivame%20offers]|utm_term=[%7BKeyword%7D]|utm_term=[Bra]|utm_term=[Bras#]|utm_term=[Buy%20enamor%20%2Bbra%20%2Bonline]|utm_term=[DPA_All+Products_DPA_ATC_180ex30_NFD_ALL]|utm_term=[DPA_All+Products_DPA_ATC_30ex15_NFD_ALL]|utm_term=[DPA_All+Products_DPA_ATC_7_NFD_ALL]|utm_term=[DPA_All+Products_DPA_VP_10_NFD_all]|utm_term=[Zivame%20bra#]|utm_term=[zivame%20coupons]|we do not deliver to this pincode.|xtm_content=[6047021198215]|xtm_content=[6047021204015]|xtm_content=[6047021226015]|xtm_forward=[utm_source%2Cutm_medium%2Cutm_campaign]|z_coins|}   |\n",
      "+----------------+------------------------+---------------+----+--------------------+---------------------+----------+----------+--------+----------+----------+--------------+--------------+------------+-------+---------------------------------------------------------------------------------------------+--------------------------+------------+-------------+-----------------+-----------+-----------------+-------------------+--------------------+-----------+------------+--------+--------+------------+-----------------------+-------------------------------------------------------------------------------+----------------------------------------------------------------------------+----------------------------------------------------------------------------+------------------------------------------------------------------------------+-------------------------------------------------------------------+------------------------------------------------------------------------------------------------------------+------------------------------------------------------------------------------------+--------------------------------------------------------------------------------------+--------------------------------------------------------------------------------------------------------+---------+----------+------------+--------+-----+--------+-------+-----------+------------------------------------+------------------------------------+------------------------------------+------------------------------------+------------------------------------+------------------------------------+------------------------------------+------------------------------------+------------------------------------+------------------------------------+------------------------------------+------------------------------------+------------------------------------+------------------------------------+------------------------------------+------------------------------------+------------------------------------+------------------------------------+------------------------------------+------------------------------------+------------------------------------+------------------------------------+------------------------------------+------------------------------------+------------------------------------+------------------------------------+------------------------------------+------------------------------------+------------------------------------+------------------------------------+------------------------------------+------------------------------------+------------------------------------+------------------------------------+------------------------------------+------------------------------------+------------------------------------+------------------------------------+------------------------------------+------------------------------------+------------------------------------+------------------------------------+------------------------------------+------------------------------------+------------------------------------+------------------------------------+------------------------------------+------------------------------------+----------------------------------+------------------------------------+------------------------------------+------------------------------------+----------------------------------+----------------------------------+------------------------------------+------------------------------------+------------------------------------+------------------------------------+------------------------------------+------------------------------------+------------------------------------+------------------------------------+------------------------------------+------------------------------------+------------------------------------+------------------------------------+------------------------------------+------------------------------------+------------------------------------+------------------------------------+------------------------------------+------------------------------------+------------------------------------+------------------------------------+------------------------------------+------------------------------------+------------------------------------+------------------------------------+------------------------------------+------------------------------------+------------------------------------+------------------------------------+------------------------------------+------------------------------------+------------------------------------+------------------------------------+------------------------------------+------------------------------------+------------------------------------+-------------+--------------+--------+---------+--------------+-------------+----------------------------------------------+-------------------+------------------+-------------+-------+------------+-------+--------+-------+---------------+---------------------------------------------------------------------------------------------------------------------------------------------+------------+--------+---------+----------+------+--------+--------------------+-----+----+----------------+---------------+---------------------------------------------+---------------------------------------------------+-------------------------------------------+-----------------------------------+-----------------------------------+---------------------------------------+-----------------------------------+-----------------------------------------+---------------------------------------+--------------------------+----------------------------------+-----------------------------------------------------+-------------------------------------------------------+-----------------------------------------------------+-------------------------------------------------------+------------------------------------------------------+-------------------------------------------------+-------------------------------------------------+---------------------------------+--------------------------+----------------------------------------------+--------------------------------------------------------+-------------------------------------------------------------+-------------------------------------------------------------+--------------------------------------------------------------------------+------------------------------------------------------------------------+--------------------------------------------------------------------------+------------------------------------------------------------------------------------+---------------------------------------------------------------+-----------------------------------------------------------------+-------------------------------------------------------+-----------------------------------------------------------------+----------------------------------------------------+-----------------+------------------+------------------------------+-------------------------------------+-----------------------------+------------------------------+----------------------------------------------------+-----------------------------------+----------------------------------+-----------------------------------------+------------------------+---------------+----------------------------------------------+------------------------------+-------------------------------------------------------------+-----------------------------------------------------+-----------------------------------------------------+-----------------------------------------------------+-----------------------------------------------------+----------------------------------------------+----------------------------------------------+----------------------------------------------+---------------------------------------------+---------------------------------------------+---------------------------------------------+---------------------------------------------+---------------------------------------------+------------------------------------------------------+----------------+----------------------------+-----------------------------------------------+---------------------------------------------+---------------------------------------------+-----------------------------------------------+---------------------------------------------+------------------------------------------------+---------------------------------------------+---------------------------------------------+----------+----------------+---------------+---------------+----------------+----------------------------+----------------+----------+-----------------------+----------------------+----------------------+-------------------------+---------------+-----------------+-----------------------+---------------------+------------------+--------------------+------------------------+--------------------------+---------------------+----------------------------+-----------------------------+------------------------+--------------+----------------+--------------------------------------------+---------------------------------------------------+--------------------------------------------------+---------------------------------------------+---------------------------------------------+------------------------+---------------------------+----------------------------------+---------------------------+---------------------------+---------------------------+----------------------------------------------------+-------+----+\n",
      "|085d478f5ec1c379|Product is added to cart|39:01.8        |null|null                |null                 |null      |null      | Bra    |null      |null      |null          |null          |null        |null   | Zivame Priority Invisible Line Full Coverage Padded Wired Strapless Bra-Black               | PCORE7 - Black           |null        |null         |null             |null       |null             |null               |null                |null       |null        |null    |null    |null        |null                   |null                                                                           |null                                                                        |null                                                                        |null                                                                          |null                                                               |null                                                                                                        |null                                                                                |null                                                                                  |null                                                                                                    |null     |null      |null        |null    |null |null    |null   |null       |null                                |null                                |null                                |null                                |null                                |null                                |null                                |null                                |null                                |null                                |null                                |null                                |null                                |null                                |null                                |null                                |null                                |null                                |null                                |null                                |null                                |null                                |null                                |null                                |null                                |null                                |null                                |null                                |null                                |null                                |null                                |null                                |null                                |null                                |null                                |null                                |null                                |null                                |null                                |null                                |null                                |null                                |null                                |null                                |null                                |null                                |null                                |null                                |null                              |null                                |null                                |null                                |null                              |null                              |null                                |null                                |null                                |null                                |null                                |null                                |null                                |null                                |null                                |null                                |null                                |null                                |null                                |null                                |null                                |null                                |null                                |null                                |null                                |null                                |null                                |null                                |null                                |null                                |null                                |null                                |null                                |null                                |null                                |null                                |null                                |null                                |null                                |null                                |null                                |null         |null          |null    |null     |null          |null         |null                                          |null               |null              |null         |null   |null        |null   |null    |null   |null           |null                                                                                                                                         |null        |null    |null     |null      |null  |null    | 29-08-2016 08:14:20|null |null|null            |null           |null                                         |null                                               |null                                       |null                               |null                               |null                                   |null                               |null                                     |null                                   |null                      |null                              |null                                                 |null                                                   |null                                                 |null                                                   |null                                                  |null                                             |null                                             |null                             |null                      |null                                          |null                                                    |null                                                         |null                                                         |null                                                                      |null                                                                    |null                                                                      |null                                                                                |null                                                           |null                                                             |null                                                   |null                                                             |null                                                |null             |null              |null                          |null                                 |null                         |null                          |null                                                |null                               |null                              |null                                     |null                    |null           |null                                          |null                          |null                                                         |null                                                 |null                                                 |null                                                 |null                                                 |null                                          |null                                          |null                                          |null                                         |null                                         |null                                         |null                                         |null                                         |null                                                  |null            |null                        |null                                           |null                                         |null                                         |null                                           |null                                         |null                                            |null                                         |null                                         |null      |null            |null           |null           |null            |null                        |null            |null      |null                   |null                  |null                  |null                     |null           |null             |null                   |null                 |null              |null                |null                    |null                      |null                 |null                        |null                         |null                    |null          |null            |null                                        |null                                               |null                                              |null                                         |null                                         |null                    |null                       |null                              |null                       |null                       |null                       |null                                                |null   |null|\n",
      "|085d478f5ec1c379|Product is viewed       |39:01.8        |null|null                |null                 |null      |null      | Bra    |null      |null      |null          |null          |null        |null   | Zivame Priority Invisible Line Full Coverage Padded Wired Strapless Bra-Black               | PCORE7 - Black           |null        |null         |null             |null       |null             |null               |null                |null       |null        |null    |null    |null        |null                   |null                                                                           |null                                                                        |null                                                                        |null                                                                          |null                                                               |null                                                                                                        |null                                                                                |null                                                                                  |null                                                                                                    |null     |null      |null        |null    |null |null    |null   |null       |null                                |null                                |null                                |null                                |null                                |null                                |null                                |null                                |null                                |null                                |null                                |null                                |null                                |null                                |null                                |null                                |null                                |null                                |null                                |null                                |null                                |null                                |null                                |null                                |null                                |null                                |null                                |null                                |null                                |null                                |null                                |null                                |null                                |null                                |null                                |null                                |null                                |null                                |null                                |null                                |null                                |null                                |null                                |null                                |null                                |null                                |null                                |null                                |null                              |null                                |null                                |null                                |null                              |null                              |null                                |null                                |null                                |null                                |null                                |null                                |null                                |null                                |null                                |null                                |null                                |null                                |null                                |null                                |null                                |null                                |null                                |null                                |null                                |null                                |null                                |null                                |null                                |null                                |null                                |null                                |null                                |null                                |null                                |null                                |null                                |null                                |null                                |null                                |null                                |null         |null          |null    |null     |null          |null         |null                                          |null               |null              |null         |null   |null        |null   |null    |null   |null           |null                                                                                                                                         |null        |null    |null     |null      |null  |null    | 29-08-2016 08:13:53|null |null|null            |null           |null                                         |null                                               |null                                       |null                               |null                               |null                                   |null                               |null                                     |null                                   |null                      |null                              |null                                                 |null                                                   |null                                                 |null                                                   |null                                                  |null                                             |null                                             |null                             |null                      |null                                          |null                                                    |null                                                         |null                                                         |null                                                                      |null                                                                    |null                                                                      |null                                                                                |null                                                           |null                                                             |null                                                   |null                                                             |null                                                |null             |null              |null                          |null                                 |null                         |null                          |null                                                |null                               |null                              |null                                     |null                    |null           |null                                          |null                          |null                                                         |null                                                 |null                                                 |null                                                 |null                                                 |null                                          |null                                          |null                                          |null                                         |null                                         |null                                         |null                                         |null                                         |null                                                  |null            |null                        |null                                           |null                                         |null                                         |null                                           |null                                         |null                                            |null                                         |null                                         |null      |null            |null           |null           |null            |null                        |null            |null      |null                   |null                  |null                  |null                     |null           |null             |null                   |null                 |null              |null                |null                    |null                      |null                 |null                        |null                         |null                    |null          |null            |null                                        |null                                               |null                                              |null                                         |null                                         |null                    |null                       |null                              |null                       |null                       |null                       |null                                                |null   |null|\n",
      "|085d478f5ec1c379|Signup is initiated     |28:28.5        |null|null                |null                 |null      |null      |null    |null      |null      |null          |null          |null        |null   |null                                                                                         |null                      |null        |null         | discover_sign_in| Zivame    |null             |null               |null                |null       |null        |null    |null    |null        |null                   |null                                                                           |null                                                                        |null                                                                        |null                                                                          |null                                                               |null                                                                                                        |null                                                                                |null                                                                                  |null                                                                                                    |null     |null      |null        |null    |null |null    |null   |null       |null                                |null                                |null                                |null                                |null                                |null                                |null                                |null                                |null                                |null                                |null                                |null                                |null                                |null                                |null                                |null                                |null                                |null                                |null                                |null                                |null                                |null                                |null                                |null                                |null                                |null                                |null                                |null                                |null                                |null                                |null                                |null                                |null                                |null                                |null                                |null                                |null                                |null                                |null                                |null                                |null                                |null                                |null                                |null                                |null                                |null                                |null                                |null                                |null                              |null                                |null                                |null                                |null                              |null                              |null                                |null                                |null                                |null                                |null                                |null                                |null                                |null                                |null                                |null                                |null                                |null                                |null                                |null                                |null                                |null                                |null                                |null                                |null                                |null                                |null                                |null                                |null                                |null                                |null                                |null                                |null                                |null                                |null                                |null                                |null                                |null                                |null                                |null                                |null                                |null         |null          |null    |null     |null          |null         |null                                          |null               |null              |null         |null   |null        |null   |null    |null   |null           |null                                                                                                                                         |null        |null    |null     |null      |null  |null    | 29-08-2016 08:06:39|null |null|null            |null           |null                                         |null                                               |null                                       |null                               |null                               |null                                   |null                               |null                                     |null                                   |null                      |null                              |null                                                 |null                                                   |null                                                 |null                                                   |null                                                  |null                                             |null                                             |null                             |null                      |null                                          |null                                                    |null                                                         |null                                                         |null                                                                      |null                                                                    |null                                                                      |null                                                                                |null                                                           |null                                                             |null                                                   |null                                                             |null                                                |null             |null              |null                          |null                                 |null                         |null                          |null                                                |null                               |null                              |null                                     |null                    |null           |null                                          |null                          |null                                                         |null                                                 |null                                                 |null                                                 |null                                                 |null                                          |null                                          |null                                          |null                                         |null                                         |null                                         |null                                         |null                                         |null                                                  |null            |null                        |null                                           |null                                         |null                                         |null                                           |null                                         |null                                            |null                                         |null                                         |null      |null            |null           |null           |null            |null                        |null            |null      |null                   |null                  |null                  |null                     |null           |null             |null                   |null                 |null              |null                |null                    |null                      |null                 |null                        |null                         |null                    |null          |null            |null                                        |null                                               |null                                              |null                                         |null                                         |null                    |null                       |null                              |null                       |null                       |null                       |null                                                |null   |null|\n",
      "|085d478f5ec1c379|uio_push_token          |27:50.5        |null|null                |null                 |null      |null      |null    |null      |null      |null          |null          |null        |null   |null                                                                                         |null                      |null        |null         |null             |null       |null             |null               |null                |null       |null        |null    |null    |null        |null                   |null                                                                           |null                                                                        |null                                                                        |null                                                                          |null                                                               |null                                                                                                        |null                                                                                |null                                                                                  |null                                                                                                    |null     |null      |null        |null    |null |null    |null   |null       |null                                |null                                |null                                |null                                |null                                |null                                |null                                |null                                |null                                |null                                |null                                |null                                |null                                |null                                |null                                |null                                |null                                |null                                |null                                |null                                |null                                |null                                |null                                |null                                |null                                |null                                |null                                |null                                |null                                |null                                |null                                |null                                |null                                |null                                |null                                |null                                |null                                |null                                |null                                |null                                |null                                |null                                |null                                |null                                |null                                |null                                |null                                |null                                |null                              |null                                |null                                |null                                |null                              |null                              |null                                |null                                |null                                |null                                |null                                |null                                |null                                |null                                |null                                |null                                |null                                |null                                |null                                |null                                |null                                |null                                |null                                |null                                |null                                |null                                |null                                |null                                |null                                |null                                |null                                |null                                |null                                |null                                |null                                |null                                |null                                |null                                |null                                |null                                |null                                |null         |null          |null    |null     |null          |null         |null                                          |null               |null              |null         |null   |null        |null   |null    |null   |null           | APA91bHvdWofQWkfekzoI6vDDNYx8mKggtjhzCmjRVseuIqtkRti4KnMiJT-QpjjoK3h1AU30FvoYj0vSklG9Vs5OU1c11HRE-tKBfkoMnCPBa5PjVjBSbdg62cmYaiTcAcxrma3597n|null        |null    |null     |null      |null  |null    |null                |null |null|null            |null           |null                                         |null                                               |null                                       |null                               |null                               |null                                   |null                               |null                                     |null                                   |null                      |null                              |null                                                 |null                                                   |null                                                 |null                                                   |null                                                  |null                                             |null                                             |null                             |null                      |null                                          |null                                                    |null                                                         |null                                                         |null                                                                      |null                                                                    |null                                                                      |null                                                                                |null                                                           |null                                                             |null                                                   |null                                                             |null                                                |null             |null              |null                          |null                                 |null                         |null                          |null                                                |null                               |null                              |null                                     |null                    |null           |null                                          |null                          |null                                                         |null                                                 |null                                                 |null                                                 |null                                                 |null                                          |null                                          |null                                          |null                                         |null                                         |null                                         |null                                         |null                                         |null                                                  |null            |null                        |null                                           |null                                         |null                                         |null                                           |null                                         |null                                            |null                                         |null                                         |null      |null            |null           |null           |null            |null                        |null            |null      |null                   |null                  |null                  |null                     |null           |null             |null                   |null                 |null              |null                |null                    |null                      |null                 |null                        |null                         |null                    |null          |null            |null                                        |null                                               |null                                              |null                                         |null                                         |null                    |null                       |null                              |null                       |null                       |null                       |null                                                |null   |null|\n",
      "|1.99379E+15     |Product is viewed       |03:59.1        |null|null                |null                 |null      |null      | Bra    |null      |null      |null          |null          |null        |null   | Rosaline Zivame Non Stretch High Support Full Coverage Bra with Soft Lined Top Cup- Lavender| 0BRPTY06-Fantasy Lavender|null        |null         |null             |null       |null             |null               |null                |null       |null        |null    |null    |null        |null                   |null                                                                           |null                                                                        |null                                                                        |null                                                                          |null                                                               |null                                                                                                        |null                                                                                |null                                                                                  |null                                                                                                    |null     |null      |null        |null    |null |null    |null   |null       |null                                |null                                |null                                |null                                |null                                |null                                |null                                |null                                |null                                |null                                |null                                |null                                |null                                |null                                |null                                |null                                |null                                |null                                |null                                |null                                |null                                |null                                |null                                |null                                |null                                |null                                |null                                |null                                |null                                |null                                |null                                |null                                |null                                |null                                |null                                |null                                |null                                |null                                |null                                |null                                |null                                |null                                |null                                |null                                |null                                |null                                |null                                |null                                |null                              |null                                |null                                |null                                |null                              |null                              |null                                |null                                |null                                |null                                |null                                |null                                |null                                |null                                |null                                |null                                |null                                |null                                |null                                |null                                |null                                |null                                |null                                |null                                |null                                |null                                |null                                |null                                |null                                |null                                |null                                |null                                |null                                |null                                |null                                |null                                |null                                |null                                |null                                |null                                |null                                |null         |null          |null    |null     |null          |null         |null                                          |null               |null              |null         |null   |null        |null   |null    |null   |null           |null                                                                                                                                         |null        |null    |null     |null      |null  |null    | 29-08-2016 01:41:48|null |null|null            |null           |null                                         |null                                               |null                                       |null                               |null                               |null                                   |null                               |null                                     |null                                   |null                      |null                              |null                                                 |null                                                   |null                                                 |null                                                   |null                                                  |null                                             |null                                             |null                             |null                      |null                                          |null                                                    |null                                                         |null                                                         |null                                                                      |null                                                                    |null                                                                      |null                                                                                |null                                                           |null                                                             |null                                                   |null                                                             |null                                                |null             |null              |null                          |null                                 |null                         |null                          |null                                                |null                               |null                              |null                                     |null                    |null           |null                                          |null                          |null                                                         |null                                                 |null                                                 |null                                                 |null                                                 |null                                          |null                                          |null                                          |null                                         |null                                         |null                                         |null                                         |null                                         |null                                                  |null            |null                        |null                                           |null                                         |null                                         |null                                           |null                                         |null                                            |null                                         |null                                         |null      |null            |null           |null           |null            |null                        |null            |null      |null                   |null                  |null                  |null                     |null           |null             |null                   |null                 |null              |null                |null                    |null                      |null                 |null                        |null                         |null                    |null          |null            |null                                        |null                                               |null                                              |null                                         |null                                         |null                    |null                       |null                              |null                       |null                       |null                       |null                                                |null   |null|\n",
      "+----------------+------------------------+---------------+----+--------------------+---------------------+----------+----------+--------+----------+----------+--------------+--------------+------------+-------+---------------------------------------------------------------------------------------------+--------------------------+------------+-------------+-----------------+-----------+-----------------+-------------------+--------------------+-----------+------------+--------+--------+------------+-----------------------+-------------------------------------------------------------------------------+----------------------------------------------------------------------------+----------------------------------------------------------------------------+------------------------------------------------------------------------------+-------------------------------------------------------------------+------------------------------------------------------------------------------------------------------------+------------------------------------------------------------------------------------+--------------------------------------------------------------------------------------+--------------------------------------------------------------------------------------------------------+---------+----------+------------+--------+-----+--------+-------+-----------+------------------------------------+------------------------------------+------------------------------------+------------------------------------+------------------------------------+------------------------------------+------------------------------------+------------------------------------+------------------------------------+------------------------------------+------------------------------------+------------------------------------+------------------------------------+------------------------------------+------------------------------------+------------------------------------+------------------------------------+------------------------------------+------------------------------------+------------------------------------+------------------------------------+------------------------------------+------------------------------------+------------------------------------+------------------------------------+------------------------------------+------------------------------------+------------------------------------+------------------------------------+------------------------------------+------------------------------------+------------------------------------+------------------------------------+------------------------------------+------------------------------------+------------------------------------+------------------------------------+------------------------------------+------------------------------------+------------------------------------+------------------------------------+------------------------------------+------------------------------------+------------------------------------+------------------------------------+------------------------------------+------------------------------------+------------------------------------+----------------------------------+------------------------------------+------------------------------------+------------------------------------+----------------------------------+----------------------------------+------------------------------------+------------------------------------+------------------------------------+------------------------------------+------------------------------------+------------------------------------+------------------------------------+------------------------------------+------------------------------------+------------------------------------+------------------------------------+------------------------------------+------------------------------------+------------------------------------+------------------------------------+------------------------------------+------------------------------------+------------------------------------+------------------------------------+------------------------------------+------------------------------------+------------------------------------+------------------------------------+------------------------------------+------------------------------------+------------------------------------+------------------------------------+------------------------------------+------------------------------------+------------------------------------+------------------------------------+------------------------------------+------------------------------------+------------------------------------+------------------------------------+-------------+--------------+--------+---------+--------------+-------------+----------------------------------------------+-------------------+------------------+-------------+-------+------------+-------+--------+-------+---------------+---------------------------------------------------------------------------------------------------------------------------------------------+------------+--------+---------+----------+------+--------+--------------------+-----+----+----------------+---------------+---------------------------------------------+---------------------------------------------------+-------------------------------------------+-----------------------------------+-----------------------------------+---------------------------------------+-----------------------------------+-----------------------------------------+---------------------------------------+--------------------------+----------------------------------+-----------------------------------------------------+-------------------------------------------------------+-----------------------------------------------------+-------------------------------------------------------+------------------------------------------------------+-------------------------------------------------+-------------------------------------------------+---------------------------------+--------------------------+----------------------------------------------+--------------------------------------------------------+-------------------------------------------------------------+-------------------------------------------------------------+--------------------------------------------------------------------------+------------------------------------------------------------------------+--------------------------------------------------------------------------+------------------------------------------------------------------------------------+---------------------------------------------------------------+-----------------------------------------------------------------+-------------------------------------------------------+-----------------------------------------------------------------+----------------------------------------------------+-----------------+------------------+------------------------------+-------------------------------------+-----------------------------+------------------------------+----------------------------------------------------+-----------------------------------+----------------------------------+-----------------------------------------+------------------------+---------------+----------------------------------------------+------------------------------+-------------------------------------------------------------+-----------------------------------------------------+-----------------------------------------------------+-----------------------------------------------------+-----------------------------------------------------+----------------------------------------------+----------------------------------------------+----------------------------------------------+---------------------------------------------+---------------------------------------------+---------------------------------------------+---------------------------------------------+---------------------------------------------+------------------------------------------------------+----------------+----------------------------+-----------------------------------------------+---------------------------------------------+---------------------------------------------+-----------------------------------------------+---------------------------------------------+------------------------------------------------+---------------------------------------------+---------------------------------------------+----------+----------------+---------------+---------------+----------------+----------------------------+----------------+----------+-----------------------+----------------------+----------------------+-------------------------+---------------+-----------------+-----------------------+---------------------+------------------+--------------------+------------------------+--------------------------+---------------------+----------------------------+-----------------------------+------------------------+--------------+----------------+--------------------------------------------+---------------------------------------------------+--------------------------------------------------+---------------------------------------------+---------------------------------------------+------------------------+---------------------------+----------------------------------+---------------------------+---------------------------+---------------------------+----------------------------------------------------+-------+----+\n",
      "only showing top 5 rows\n",
      "\n"
     ]
    }
   ],
   "source": [
    "eventdump_fin.show(5, truncate = False)"
   ]
  },
  {
   "cell_type": "code",
   "execution_count": 111,
   "metadata": {
    "id": "mjBuFjlk3e19"
   },
   "outputs": [],
   "source": [
    "eventdump_fin1 = eventdump_fin.withColumn(\"timeStamp\",to_timestamp(col(\"timeStamp\"),\" dd-MM-yyyy hh:mm:ss\"))"
   ]
  },
  {
   "cell_type": "code",
   "execution_count": 112,
   "metadata": {
    "colab": {
     "base_uri": "https://localhost:8080/"
    },
    "id": "4oJWyQTy3e19",
    "outputId": "0ebbf628-e9fb-4200-c4fd-07619a5cf4cf"
   },
   "outputs": [
    {
     "name": "stdout",
     "output_type": "stream",
     "text": [
      "+----------------+------------------------+---------------+----+--------------------+---------------------+----------+----------+--------+----------+----------+--------------+--------------+------------+-------+---------------------------------------------------------------------------------------------+--------------------------+------------+-------------+-----------------+-----------+-----------------+-------------------+--------------------+-----------+------------+--------+--------+------------+-----------------------+-------------------------------------------------------------------------------+----------------------------------------------------------------------------+----------------------------------------------------------------------------+------------------------------------------------------------------------------+-------------------------------------------------------------------+------------------------------------------------------------------------------------------------------------+------------------------------------------------------------------------------------+--------------------------------------------------------------------------------------+--------------------------------------------------------------------------------------------------------+---------+----------+------------+--------+-----+--------+-------+-----------+------------------------------------+------------------------------------+------------------------------------+------------------------------------+------------------------------------+------------------------------------+------------------------------------+------------------------------------+------------------------------------+------------------------------------+------------------------------------+------------------------------------+------------------------------------+------------------------------------+------------------------------------+------------------------------------+------------------------------------+------------------------------------+------------------------------------+------------------------------------+------------------------------------+------------------------------------+------------------------------------+------------------------------------+------------------------------------+------------------------------------+------------------------------------+------------------------------------+------------------------------------+------------------------------------+------------------------------------+------------------------------------+------------------------------------+------------------------------------+------------------------------------+------------------------------------+------------------------------------+------------------------------------+------------------------------------+------------------------------------+------------------------------------+------------------------------------+------------------------------------+------------------------------------+------------------------------------+------------------------------------+------------------------------------+------------------------------------+----------------------------------+------------------------------------+------------------------------------+------------------------------------+----------------------------------+----------------------------------+------------------------------------+------------------------------------+------------------------------------+------------------------------------+------------------------------------+------------------------------------+------------------------------------+------------------------------------+------------------------------------+------------------------------------+------------------------------------+------------------------------------+------------------------------------+------------------------------------+------------------------------------+------------------------------------+------------------------------------+------------------------------------+------------------------------------+------------------------------------+------------------------------------+------------------------------------+------------------------------------+------------------------------------+------------------------------------+------------------------------------+------------------------------------+------------------------------------+------------------------------------+------------------------------------+------------------------------------+------------------------------------+------------------------------------+------------------------------------+------------------------------------+-------------+--------------+--------+---------+--------------+-------------+----------------------------------------------+-------------------+------------------+-------------+-------+------------+-------+--------+-------+---------------+---------------------------------------------------------------------------------------------------------------------------------------------+------------+--------+---------+----------+------+--------+-------------------+-----+----+----------------+---------------+---------------------------------------------+---------------------------------------------------+-------------------------------------------+-----------------------------------+-----------------------------------+---------------------------------------+-----------------------------------+-----------------------------------------+---------------------------------------+--------------------------+----------------------------------+-----------------------------------------------------+-------------------------------------------------------+-----------------------------------------------------+-------------------------------------------------------+------------------------------------------------------+-------------------------------------------------+-------------------------------------------------+---------------------------------+--------------------------+----------------------------------------------+--------------------------------------------------------+-------------------------------------------------------------+-------------------------------------------------------------+--------------------------------------------------------------------------+------------------------------------------------------------------------+--------------------------------------------------------------------------+------------------------------------------------------------------------------------+---------------------------------------------------------------+-----------------------------------------------------------------+-------------------------------------------------------+-----------------------------------------------------------------+----------------------------------------------------+-----------------+------------------+------------------------------+-------------------------------------+-----------------------------+------------------------------+----------------------------------------------------+-----------------------------------+----------------------------------+-----------------------------------------+------------------------+---------------+----------------------------------------------+------------------------------+-------------------------------------------------------------+-----------------------------------------------------+-----------------------------------------------------+-----------------------------------------------------+-----------------------------------------------------+----------------------------------------------+----------------------------------------------+----------------------------------------------+---------------------------------------------+---------------------------------------------+---------------------------------------------+---------------------------------------------+---------------------------------------------+------------------------------------------------------+----------------+----------------------------+-----------------------------------------------+---------------------------------------------+---------------------------------------------+-----------------------------------------------+---------------------------------------------+------------------------------------------------+---------------------------------------------+---------------------------------------------+----------+----------------+---------------+---------------+----------------+----------------------------+----------------+----------+-----------------------+----------------------+----------------------+-------------------------+---------------+-----------------+-----------------------+---------------------+------------------+--------------------+------------------------+--------------------------+---------------------+----------------------------+-----------------------------+------------------------+--------------+----------------+--------------------------------------------+---------------------------------------------------+--------------------------------------------------+---------------------------------------------+---------------------------------------------+------------------------+---------------------------+----------------------------------+---------------------------+---------------------------+---------------------------+----------------------------------------------------+-------+----+\n",
      "|uuid            |event                   |event_timestamp|    |2xl,l size in inches|2xl,l size in inches}|Brand Name|Cart Value|Category|Login From|Login Type|No Of Products|PINCode Status|PUSH MESSAGE|PinCode|Product Name                                                                                 |Product SKU               |Search Query|Search String|SignIn From      |SignIn Type|Sub-Category name|adid=[120565720720]|brandSwitch=[zivame]|broad strap|broad strap}|cat_name|category|categoryname|clicked_banner_position|cussku=[B25448-Black%20With%20Pink,B25448-Turquoise,B25448-Ivory,CB25459-Black]|cussku=[B65445-Blue%20Aqua,B65570H2-Coral%20Print,B65570H2-Grey,B64848-Skin]|cussku=[BA11660-Leopard%20Printed,PNBRFS16-Pink,BA12552-Black,PNBRFS16-Skin]|cussku=[BA11660-Leopard%20Printed,PNBRFS16-Pink,BA12552-Black,PNBRFS16-Skin]}}|cussku=[MZR2-Turkisk+Tile%2CMZR2-Roebuck+Skin%2CMZR2-Calypso+Coral]|cussku=[PEDGY24%20-%20Fuschia,618084%20-%20Black,PYPCBS02%20-%20Dandy%20Yellow,618084%20-%20Passion%20Punch]|cussku=[TG04-White%20with%20Red,PYAWL31-Blue%20Light,PYAWL25-Cyclamen,Penny%204-Red]|cussku=[TG04-White%20with%20Red,PYAWL31-Blue%20Light,PYAWL25-Cyclamen,Penny%204-Red]}}|cussku=[ZSWP0749-Grey%2CZSWP0748-Black%2CZSWP0747-Navy%2CZSWP0747-Black%2CZSWP0749-Grey%2CZSWP0749-Navy]|dir=[asc]|dir=[desc]|dir=[desc]}}|discount|email|email_id|gid=[1]|grand_total|link_click_id=[186761740401313586]}}|link_click_id=[187554268855731552]}}|link_click_id=[192755013125211954]}}|link_click_id=[194378592010963499]}}|link_click_id=[224334951540129637]}}|link_click_id=[228921785465240654]}}|link_click_id=[238617326362251028]}}|link_click_id=[240160118667917010]}}|link_click_id=[247732938665966953]}}|link_click_id=[250955558759868335]}}|link_click_id=[261488099681290312]}}|link_click_id=[262260429851070095]}}|link_click_id=[262598108988049764]}}|link_click_id=[262856832255671258]}}|link_click_id=[265041233310763833]}}|link_click_id=[266126195699132313]}}|link_click_id=[269018626990024678]}}|link_click_id=[272400969246595213]}}|link_click_id=[279157105253678379]}}|link_click_id=[284138192833757155]}}|link_click_id=[284158992704880538]}}|link_click_id=[285075958970313400]}}|link_click_id=[285195366860430228]}}|link_click_id=[286032564054458740]}}|link_click_id=[286217929310089507]}}|link_click_id=[286330813777943132]}}|link_click_id=[287072729690153174]}}|link_click_id=[287444766569442617]}}|link_click_id=[287916073416158860]}}|link_click_id=[287958477842391682]}}|link_click_id=[287975820116029511]}}|link_click_id=[288311496515701145]}}|link_click_id=[288383453296458178]}}|link_click_id=[288529717128288311]}}|link_click_id=[289616965581087482]}}|link_click_id=[291470342073294634]}}|link_click_id=[291572202952794321]}}|link_click_id=[292530729314768560]}}|link_click_id=[292665271775187173]}}|link_click_id=[292880484533414127]}}|link_click_id=[293056595710185228]}}|link_click_id=[293293301155866311]}}|link_click_id=[293444641076346415]}}|link_click_id=[293550559437752449]}}|link_click_id=[293660984650237765]}}|link_click_id=[293758931971395992]}}|link_click_id=[294703710814521082]}}|link_click_id=[295237644839276785]}}|link_click_id=[295542405995892285]|link_click_id=[295663293259674065]}}|link_click_id=[296296274760046951]}}|link_click_id=[296536491633590811]}}|link_click_id=[296825581192497817]|link_click_id=[296902135540189583]|link_click_id=[297329640832169886]}}|link_click_id=[297445388244616267]}}|link_click_id=[297506718860696429]}}|link_click_id=[297555109926892757]}}|link_click_id=[297632551747109496]}}|link_click_id=[297634116901486717]}}|link_click_id=[297650946788315090]}}|link_click_id=[297749203710054038]}}|link_click_id=[297960096200386454]}}|link_click_id=[298019288124260781]}}|link_click_id=[298020932985322262]}}|link_click_id=[298027951426057536]}}|link_click_id=[298051143806222860]}}|link_click_id=[298086813751975070]}}|link_click_id=[298098008237810588]}}|link_click_id=[298139946773205341]}}|link_click_id=[298156750573964499]}}|link_click_id=[298186968936149908]}}|link_click_id=[298330346927446481]}}|link_click_id=[298411669010746855]}}|link_click_id=[298411936021900407]}}|link_click_id=[298426971897764671]}}|link_click_id=[298707730471119112]}}|link_click_id=[298840424031877963]}}|link_click_id=[298961529484206522]}}|link_click_id=[299056367891026839]}}|link_click_id=[299125394088887047]}}|link_click_id=[299202532773557266]}}|link_click_id=[299370342325588337]}}|link_click_id=[299385735620532715]}}|link_click_id=[299522723125921190]}}|link_click_id=[299554299345351850]}}|link_click_id=[299561364262628585]}}|link_click_id=[299561756287219218]}}|link_click_id=[299587399692648814]}}|non wired bra|non wired bra}|nonwired|nonwired}|ns_cart_amount|ns_cart_price|order=[bestsellersUID%3DDiscountandyoucom5370]|order=[bestsellers]|order=[created_at]|order=[price]|orderId|payment_mode|pid=[1]|pin_code|pincode|price=[1%2c500]|push_token                                                                                                                                   |search_query|shipping|size 34DD|size 34DD}|status|subtotal|timeStamp          |total|ts  |user_coming_from|user_login_type|utm_banner_source=[endofsanity_eoss_19_07_16]|utm_banner_source=[shop999_getfreeapparel_01_06_16]|utm_campaign=[12_3for999lfh_nbbtier1_22_08]|utm_campaign=[22_csp_bogolch_26_08]|utm_campaign=[22_fam_bogolch_26_08]|utm_campaign=[22_nbb_bogoendsoon_28_08]|utm_campaign=[22_nbb_bogolch_26_08]|utm_campaign=[22_sharp_nbb_4for599_25_08]|utm_campaign=[3for999endsoon_new_21_08]|utm_campaign=[A-SC-Zivame]|utm_campaign=[Bra-Generic-Modifer]|utm_campaign=[DPA_All Products_DPA_ATC_15ex7_NFD_ALL]|utm_campaign=[DPA_All Products_DPA_ATC_180ex30_NFD_ALL]|utm_campaign=[DPA_All+Products_DPA_ATC_15ex7_NFD_ALL]|utm_campaign=[DPA_All+Products_DPA_ATC_180ex30_NFD_ALL]|utm_campaign=[DPA_All+Products_DPA_ATC_30ex15_NFD_ALL]|utm_campaign=[DPA_All+Products_DPA_ATC_7_NFD_ALL]|utm_campaign=[DPA_All+Products_DPA_VP_10_NFD_all]|utm_campaign=[Dynamic-Search-Ads]|utm_campaign=[GenericJune]|utm_campaign=[M_-Mob-F-18-65-29Aug2016-17h18m]|utm_campaign=[M_35-44_Mob_F_IN_age3544_2015Oct23_13h26m]|utm_campaign=[M_BriefBuyers-DRHSMob-F-18-65-26Aug2016-17h15m]|utm_campaign=[M_Lapsed_2307-DRHSMob-F-18-65-26Aug2016-17h15m]|utm_campaign=[M_LookalikeIN3Audience_RFM-DRHSMob-F-18-65-22Jun2016-15h05m]|utm_campaign=[M_LookalikeIN6FB_high_value-DMob-F-24-45-12Aug2016-14h29m]|utm_campaign=[M_LookalikeIN7Audience_RFM-DRHSMob-F-18-65-22Jun2016-15h05m]|utm_campaign=[M_MixedLookalikeIN1Success_Dmobilefeed_MF_IN_age2455_2015Oct14_14h35m]|utm_campaign=[M_NotifyMe_2307-DRHSMob-F-18-65-26Aug2016-17h15m]|utm_campaign=[M_avgvalue5001000-DRHSMob-F-23-65-09Aug2016-11h36m]|utm_campaign=[M_brabuyers-all-F-18-65-21Jul2016-11h48m]|utm_campaign=[M_nightwearbuyers-DRHSMob-F-18-65-26Aug2016-17h15m]|utm_campaign=[M_o2-DRHSMob-F-18-65-23Jun2016-12h55m]|utm_campaign=[NA]|utm_campaign=[PLA]|utm_campaign=[Remarketing-New]|utm_campaign=[Remarketing-Top-Funnel]|utm_campaign=[Zivame-Promo-E]|utm_campaign=[Zivame-Promo-PB]|utm_campaign=[Zivame-Promo-PB_SL_15-Off-Coupon-PS15]|utm_campaign=[bogoendsoon_t1_28_08]|utm_campaign=[bogolch_t2_1m_26_08]|utm_campaign=[single_coupons_offer_02_04]|utm_campaign=[zivameCPS]|utm_content=[1]|utm_content=[3448f21cf75bbbee989a8262f6006de7]|utm_content=[BOGO-Product-Aug]|utm_content=[CA_Sale_atc_7_f_14-50_NFD_201608271610_bogo-ad3]|utm_content=[M_4for599_Brief_2508-1-25Aug2016-12h33m]|utm_content=[M_4for599_Brief_2508-5-25Aug2016-12h33m]|utm_content=[M_4for599_Brief_2508-6-25Aug2016-12h33m]|utm_content=[M_4for599_Brief_2508-7-25Aug2016-12h33m]|utm_content=[M_BOGO_2_2608-0-27Aug2016-19h20m]|utm_content=[M_BOGO_2_2608-3-26Aug2016-18h39m]|utm_content=[M_BOGO_2_2608-4-26Aug2016-18h39m]|utm_content=[M_NoSag_2608-0-26Aug2016-17h15m]|utm_content=[M_NoSag_2608-0-29Aug2016-23h54m]|utm_content=[M_NoSag_2608-2-26Aug2016-17h15m]|utm_content=[M_NoSag_2608-5-26Aug2016-17h15m]|utm_content=[M_NoSag_2608-6-26Aug2016-17h15m]|utm_content=[M_SareeShapewear_2408-7-24Aug2016-11h25m]|utm_content=[NA]|utm_content=[social_shopnow]|utm_id=[0094f148-e320-4456-941f-af734e07dd17]}}|utm_id=[1958e752-f145-4658-9953-1a2db4a924b5]|utm_id=[332b6d46-1762-40d4-9f09-4097f2526e1c]|utm_id=[6e2aa7f2-e927-4045-baa6-83e4eef914d9]}}|utm_id=[6fc6a913-98be-4e41-b30e-4cd742492fa5]|utm_id=[84a525e0-6cd6-4fa1-8454-9462609b0a34#]}}|utm_id=[eda07c08-19ac-43b3-ab8f-1177a8357154]|utm_id=[f5f6d6b4-8d4f-4308-b771-d3b66f6b6f23]|utm_medium|utm_medium=[DPA]|utm_medium=[NA]|utm_medium=[bb]|utm_medium=[cpc]|utm_medium=[lfdesktop-nonfb]|utm_medium=[sms]|utm_source|utm_source=[Affiliates]|utm_source=[Googlepla]|utm_source=[Googlerem]|utm_source=[Googlesearch]|utm_source=[NA]|utm_source=[NA]}}|utm_source=[affiliates]|utm_source=[criteo]}}|utm_source=[email]|utm_source=[email]}}|utm_source=[facebook-qg]|utm_source=[facebook-qg]}}|utm_source=[facebook]|utm_source=[facebook_social]|utm_term=[%2Bzivame%20offers]|utm_term=[%7BKeyword%7D]|utm_term=[Bra]|utm_term=[Bras#]|utm_term=[Buy%20enamor%20%2Bbra%20%2Bonline]|utm_term=[DPA_All+Products_DPA_ATC_180ex30_NFD_ALL]|utm_term=[DPA_All+Products_DPA_ATC_30ex15_NFD_ALL]|utm_term=[DPA_All+Products_DPA_ATC_7_NFD_ALL]|utm_term=[DPA_All+Products_DPA_VP_10_NFD_all]|utm_term=[Zivame%20bra#]|utm_term=[zivame%20coupons]|we do not deliver to this pincode.|xtm_content=[6047021198215]|xtm_content=[6047021204015]|xtm_content=[6047021226015]|xtm_forward=[utm_source%2Cutm_medium%2Cutm_campaign]|z_coins|}   |\n",
      "+----------------+------------------------+---------------+----+--------------------+---------------------+----------+----------+--------+----------+----------+--------------+--------------+------------+-------+---------------------------------------------------------------------------------------------+--------------------------+------------+-------------+-----------------+-----------+-----------------+-------------------+--------------------+-----------+------------+--------+--------+------------+-----------------------+-------------------------------------------------------------------------------+----------------------------------------------------------------------------+----------------------------------------------------------------------------+------------------------------------------------------------------------------+-------------------------------------------------------------------+------------------------------------------------------------------------------------------------------------+------------------------------------------------------------------------------------+--------------------------------------------------------------------------------------+--------------------------------------------------------------------------------------------------------+---------+----------+------------+--------+-----+--------+-------+-----------+------------------------------------+------------------------------------+------------------------------------+------------------------------------+------------------------------------+------------------------------------+------------------------------------+------------------------------------+------------------------------------+------------------------------------+------------------------------------+------------------------------------+------------------------------------+------------------------------------+------------------------------------+------------------------------------+------------------------------------+------------------------------------+------------------------------------+------------------------------------+------------------------------------+------------------------------------+------------------------------------+------------------------------------+------------------------------------+------------------------------------+------------------------------------+------------------------------------+------------------------------------+------------------------------------+------------------------------------+------------------------------------+------------------------------------+------------------------------------+------------------------------------+------------------------------------+------------------------------------+------------------------------------+------------------------------------+------------------------------------+------------------------------------+------------------------------------+------------------------------------+------------------------------------+------------------------------------+------------------------------------+------------------------------------+------------------------------------+----------------------------------+------------------------------------+------------------------------------+------------------------------------+----------------------------------+----------------------------------+------------------------------------+------------------------------------+------------------------------------+------------------------------------+------------------------------------+------------------------------------+------------------------------------+------------------------------------+------------------------------------+------------------------------------+------------------------------------+------------------------------------+------------------------------------+------------------------------------+------------------------------------+------------------------------------+------------------------------------+------------------------------------+------------------------------------+------------------------------------+------------------------------------+------------------------------------+------------------------------------+------------------------------------+------------------------------------+------------------------------------+------------------------------------+------------------------------------+------------------------------------+------------------------------------+------------------------------------+------------------------------------+------------------------------------+------------------------------------+------------------------------------+-------------+--------------+--------+---------+--------------+-------------+----------------------------------------------+-------------------+------------------+-------------+-------+------------+-------+--------+-------+---------------+---------------------------------------------------------------------------------------------------------------------------------------------+------------+--------+---------+----------+------+--------+-------------------+-----+----+----------------+---------------+---------------------------------------------+---------------------------------------------------+-------------------------------------------+-----------------------------------+-----------------------------------+---------------------------------------+-----------------------------------+-----------------------------------------+---------------------------------------+--------------------------+----------------------------------+-----------------------------------------------------+-------------------------------------------------------+-----------------------------------------------------+-------------------------------------------------------+------------------------------------------------------+-------------------------------------------------+-------------------------------------------------+---------------------------------+--------------------------+----------------------------------------------+--------------------------------------------------------+-------------------------------------------------------------+-------------------------------------------------------------+--------------------------------------------------------------------------+------------------------------------------------------------------------+--------------------------------------------------------------------------+------------------------------------------------------------------------------------+---------------------------------------------------------------+-----------------------------------------------------------------+-------------------------------------------------------+-----------------------------------------------------------------+----------------------------------------------------+-----------------+------------------+------------------------------+-------------------------------------+-----------------------------+------------------------------+----------------------------------------------------+-----------------------------------+----------------------------------+-----------------------------------------+------------------------+---------------+----------------------------------------------+------------------------------+-------------------------------------------------------------+-----------------------------------------------------+-----------------------------------------------------+-----------------------------------------------------+-----------------------------------------------------+----------------------------------------------+----------------------------------------------+----------------------------------------------+---------------------------------------------+---------------------------------------------+---------------------------------------------+---------------------------------------------+---------------------------------------------+------------------------------------------------------+----------------+----------------------------+-----------------------------------------------+---------------------------------------------+---------------------------------------------+-----------------------------------------------+---------------------------------------------+------------------------------------------------+---------------------------------------------+---------------------------------------------+----------+----------------+---------------+---------------+----------------+----------------------------+----------------+----------+-----------------------+----------------------+----------------------+-------------------------+---------------+-----------------+-----------------------+---------------------+------------------+--------------------+------------------------+--------------------------+---------------------+----------------------------+-----------------------------+------------------------+--------------+----------------+--------------------------------------------+---------------------------------------------------+--------------------------------------------------+---------------------------------------------+---------------------------------------------+------------------------+---------------------------+----------------------------------+---------------------------+---------------------------+---------------------------+----------------------------------------------------+-------+----+\n",
      "|085d478f5ec1c379|Product is added to cart|39:01.8        |null|null                |null                 |null      |null      | Bra    |null      |null      |null          |null          |null        |null   | Zivame Priority Invisible Line Full Coverage Padded Wired Strapless Bra-Black               | PCORE7 - Black           |null        |null         |null             |null       |null             |null               |null                |null       |null        |null    |null    |null        |null                   |null                                                                           |null                                                                        |null                                                                        |null                                                                          |null                                                               |null                                                                                                        |null                                                                                |null                                                                                  |null                                                                                                    |null     |null      |null        |null    |null |null    |null   |null       |null                                |null                                |null                                |null                                |null                                |null                                |null                                |null                                |null                                |null                                |null                                |null                                |null                                |null                                |null                                |null                                |null                                |null                                |null                                |null                                |null                                |null                                |null                                |null                                |null                                |null                                |null                                |null                                |null                                |null                                |null                                |null                                |null                                |null                                |null                                |null                                |null                                |null                                |null                                |null                                |null                                |null                                |null                                |null                                |null                                |null                                |null                                |null                                |null                              |null                                |null                                |null                                |null                              |null                              |null                                |null                                |null                                |null                                |null                                |null                                |null                                |null                                |null                                |null                                |null                                |null                                |null                                |null                                |null                                |null                                |null                                |null                                |null                                |null                                |null                                |null                                |null                                |null                                |null                                |null                                |null                                |null                                |null                                |null                                |null                                |null                                |null                                |null                                |null                                |null         |null          |null    |null     |null          |null         |null                                          |null               |null              |null         |null   |null        |null   |null    |null   |null           |null                                                                                                                                         |null        |null    |null     |null      |null  |null    |2016-08-29 08:14:20|null |null|null            |null           |null                                         |null                                               |null                                       |null                               |null                               |null                                   |null                               |null                                     |null                                   |null                      |null                              |null                                                 |null                                                   |null                                                 |null                                                   |null                                                  |null                                             |null                                             |null                             |null                      |null                                          |null                                                    |null                                                         |null                                                         |null                                                                      |null                                                                    |null                                                                      |null                                                                                |null                                                           |null                                                             |null                                                   |null                                                             |null                                                |null             |null              |null                          |null                                 |null                         |null                          |null                                                |null                               |null                              |null                                     |null                    |null           |null                                          |null                          |null                                                         |null                                                 |null                                                 |null                                                 |null                                                 |null                                          |null                                          |null                                          |null                                         |null                                         |null                                         |null                                         |null                                         |null                                                  |null            |null                        |null                                           |null                                         |null                                         |null                                           |null                                         |null                                            |null                                         |null                                         |null      |null            |null           |null           |null            |null                        |null            |null      |null                   |null                  |null                  |null                     |null           |null             |null                   |null                 |null              |null                |null                    |null                      |null                 |null                        |null                         |null                    |null          |null            |null                                        |null                                               |null                                              |null                                         |null                                         |null                    |null                       |null                              |null                       |null                       |null                       |null                                                |null   |null|\n",
      "|085d478f5ec1c379|Product is viewed       |39:01.8        |null|null                |null                 |null      |null      | Bra    |null      |null      |null          |null          |null        |null   | Zivame Priority Invisible Line Full Coverage Padded Wired Strapless Bra-Black               | PCORE7 - Black           |null        |null         |null             |null       |null             |null               |null                |null       |null        |null    |null    |null        |null                   |null                                                                           |null                                                                        |null                                                                        |null                                                                          |null                                                               |null                                                                                                        |null                                                                                |null                                                                                  |null                                                                                                    |null     |null      |null        |null    |null |null    |null   |null       |null                                |null                                |null                                |null                                |null                                |null                                |null                                |null                                |null                                |null                                |null                                |null                                |null                                |null                                |null                                |null                                |null                                |null                                |null                                |null                                |null                                |null                                |null                                |null                                |null                                |null                                |null                                |null                                |null                                |null                                |null                                |null                                |null                                |null                                |null                                |null                                |null                                |null                                |null                                |null                                |null                                |null                                |null                                |null                                |null                                |null                                |null                                |null                                |null                              |null                                |null                                |null                                |null                              |null                              |null                                |null                                |null                                |null                                |null                                |null                                |null                                |null                                |null                                |null                                |null                                |null                                |null                                |null                                |null                                |null                                |null                                |null                                |null                                |null                                |null                                |null                                |null                                |null                                |null                                |null                                |null                                |null                                |null                                |null                                |null                                |null                                |null                                |null                                |null                                |null         |null          |null    |null     |null          |null         |null                                          |null               |null              |null         |null   |null        |null   |null    |null   |null           |null                                                                                                                                         |null        |null    |null     |null      |null  |null    |2016-08-29 08:13:53|null |null|null            |null           |null                                         |null                                               |null                                       |null                               |null                               |null                                   |null                               |null                                     |null                                   |null                      |null                              |null                                                 |null                                                   |null                                                 |null                                                   |null                                                  |null                                             |null                                             |null                             |null                      |null                                          |null                                                    |null                                                         |null                                                         |null                                                                      |null                                                                    |null                                                                      |null                                                                                |null                                                           |null                                                             |null                                                   |null                                                             |null                                                |null             |null              |null                          |null                                 |null                         |null                          |null                                                |null                               |null                              |null                                     |null                    |null           |null                                          |null                          |null                                                         |null                                                 |null                                                 |null                                                 |null                                                 |null                                          |null                                          |null                                          |null                                         |null                                         |null                                         |null                                         |null                                         |null                                                  |null            |null                        |null                                           |null                                         |null                                         |null                                           |null                                         |null                                            |null                                         |null                                         |null      |null            |null           |null           |null            |null                        |null            |null      |null                   |null                  |null                  |null                     |null           |null             |null                   |null                 |null              |null                |null                    |null                      |null                 |null                        |null                         |null                    |null          |null            |null                                        |null                                               |null                                              |null                                         |null                                         |null                    |null                       |null                              |null                       |null                       |null                       |null                                                |null   |null|\n",
      "|085d478f5ec1c379|Signup is initiated     |28:28.5        |null|null                |null                 |null      |null      |null    |null      |null      |null          |null          |null        |null   |null                                                                                         |null                      |null        |null         | discover_sign_in| Zivame    |null             |null               |null                |null       |null        |null    |null    |null        |null                   |null                                                                           |null                                                                        |null                                                                        |null                                                                          |null                                                               |null                                                                                                        |null                                                                                |null                                                                                  |null                                                                                                    |null     |null      |null        |null    |null |null    |null   |null       |null                                |null                                |null                                |null                                |null                                |null                                |null                                |null                                |null                                |null                                |null                                |null                                |null                                |null                                |null                                |null                                |null                                |null                                |null                                |null                                |null                                |null                                |null                                |null                                |null                                |null                                |null                                |null                                |null                                |null                                |null                                |null                                |null                                |null                                |null                                |null                                |null                                |null                                |null                                |null                                |null                                |null                                |null                                |null                                |null                                |null                                |null                                |null                                |null                              |null                                |null                                |null                                |null                              |null                              |null                                |null                                |null                                |null                                |null                                |null                                |null                                |null                                |null                                |null                                |null                                |null                                |null                                |null                                |null                                |null                                |null                                |null                                |null                                |null                                |null                                |null                                |null                                |null                                |null                                |null                                |null                                |null                                |null                                |null                                |null                                |null                                |null                                |null                                |null                                |null         |null          |null    |null     |null          |null         |null                                          |null               |null              |null         |null   |null        |null   |null    |null   |null           |null                                                                                                                                         |null        |null    |null     |null      |null  |null    |2016-08-29 08:06:39|null |null|null            |null           |null                                         |null                                               |null                                       |null                               |null                               |null                                   |null                               |null                                     |null                                   |null                      |null                              |null                                                 |null                                                   |null                                                 |null                                                   |null                                                  |null                                             |null                                             |null                             |null                      |null                                          |null                                                    |null                                                         |null                                                         |null                                                                      |null                                                                    |null                                                                      |null                                                                                |null                                                           |null                                                             |null                                                   |null                                                             |null                                                |null             |null              |null                          |null                                 |null                         |null                          |null                                                |null                               |null                              |null                                     |null                    |null           |null                                          |null                          |null                                                         |null                                                 |null                                                 |null                                                 |null                                                 |null                                          |null                                          |null                                          |null                                         |null                                         |null                                         |null                                         |null                                         |null                                                  |null            |null                        |null                                           |null                                         |null                                         |null                                           |null                                         |null                                            |null                                         |null                                         |null      |null            |null           |null           |null            |null                        |null            |null      |null                   |null                  |null                  |null                     |null           |null             |null                   |null                 |null              |null                |null                    |null                      |null                 |null                        |null                         |null                    |null          |null            |null                                        |null                                               |null                                              |null                                         |null                                         |null                    |null                       |null                              |null                       |null                       |null                       |null                                                |null   |null|\n",
      "|085d478f5ec1c379|uio_push_token          |27:50.5        |null|null                |null                 |null      |null      |null    |null      |null      |null          |null          |null        |null   |null                                                                                         |null                      |null        |null         |null             |null       |null             |null               |null                |null       |null        |null    |null    |null        |null                   |null                                                                           |null                                                                        |null                                                                        |null                                                                          |null                                                               |null                                                                                                        |null                                                                                |null                                                                                  |null                                                                                                    |null     |null      |null        |null    |null |null    |null   |null       |null                                |null                                |null                                |null                                |null                                |null                                |null                                |null                                |null                                |null                                |null                                |null                                |null                                |null                                |null                                |null                                |null                                |null                                |null                                |null                                |null                                |null                                |null                                |null                                |null                                |null                                |null                                |null                                |null                                |null                                |null                                |null                                |null                                |null                                |null                                |null                                |null                                |null                                |null                                |null                                |null                                |null                                |null                                |null                                |null                                |null                                |null                                |null                                |null                              |null                                |null                                |null                                |null                              |null                              |null                                |null                                |null                                |null                                |null                                |null                                |null                                |null                                |null                                |null                                |null                                |null                                |null                                |null                                |null                                |null                                |null                                |null                                |null                                |null                                |null                                |null                                |null                                |null                                |null                                |null                                |null                                |null                                |null                                |null                                |null                                |null                                |null                                |null                                |null                                |null         |null          |null    |null     |null          |null         |null                                          |null               |null              |null         |null   |null        |null   |null    |null   |null           | APA91bHvdWofQWkfekzoI6vDDNYx8mKggtjhzCmjRVseuIqtkRti4KnMiJT-QpjjoK3h1AU30FvoYj0vSklG9Vs5OU1c11HRE-tKBfkoMnCPBa5PjVjBSbdg62cmYaiTcAcxrma3597n|null        |null    |null     |null      |null  |null    |null               |null |null|null            |null           |null                                         |null                                               |null                                       |null                               |null                               |null                                   |null                               |null                                     |null                                   |null                      |null                              |null                                                 |null                                                   |null                                                 |null                                                   |null                                                  |null                                             |null                                             |null                             |null                      |null                                          |null                                                    |null                                                         |null                                                         |null                                                                      |null                                                                    |null                                                                      |null                                                                                |null                                                           |null                                                             |null                                                   |null                                                             |null                                                |null             |null              |null                          |null                                 |null                         |null                          |null                                                |null                               |null                              |null                                     |null                    |null           |null                                          |null                          |null                                                         |null                                                 |null                                                 |null                                                 |null                                                 |null                                          |null                                          |null                                          |null                                         |null                                         |null                                         |null                                         |null                                         |null                                                  |null            |null                        |null                                           |null                                         |null                                         |null                                           |null                                         |null                                            |null                                         |null                                         |null      |null            |null           |null           |null            |null                        |null            |null      |null                   |null                  |null                  |null                     |null           |null             |null                   |null                 |null              |null                |null                    |null                      |null                 |null                        |null                         |null                    |null          |null            |null                                        |null                                               |null                                              |null                                         |null                                         |null                    |null                       |null                              |null                       |null                       |null                       |null                                                |null   |null|\n",
      "|1.99379E+15     |Product is viewed       |03:59.1        |null|null                |null                 |null      |null      | Bra    |null      |null      |null          |null          |null        |null   | Rosaline Zivame Non Stretch High Support Full Coverage Bra with Soft Lined Top Cup- Lavender| 0BRPTY06-Fantasy Lavender|null        |null         |null             |null       |null             |null               |null                |null       |null        |null    |null    |null        |null                   |null                                                                           |null                                                                        |null                                                                        |null                                                                          |null                                                               |null                                                                                                        |null                                                                                |null                                                                                  |null                                                                                                    |null     |null      |null        |null    |null |null    |null   |null       |null                                |null                                |null                                |null                                |null                                |null                                |null                                |null                                |null                                |null                                |null                                |null                                |null                                |null                                |null                                |null                                |null                                |null                                |null                                |null                                |null                                |null                                |null                                |null                                |null                                |null                                |null                                |null                                |null                                |null                                |null                                |null                                |null                                |null                                |null                                |null                                |null                                |null                                |null                                |null                                |null                                |null                                |null                                |null                                |null                                |null                                |null                                |null                                |null                              |null                                |null                                |null                                |null                              |null                              |null                                |null                                |null                                |null                                |null                                |null                                |null                                |null                                |null                                |null                                |null                                |null                                |null                                |null                                |null                                |null                                |null                                |null                                |null                                |null                                |null                                |null                                |null                                |null                                |null                                |null                                |null                                |null                                |null                                |null                                |null                                |null                                |null                                |null                                |null                                |null         |null          |null    |null     |null          |null         |null                                          |null               |null              |null         |null   |null        |null   |null    |null   |null           |null                                                                                                                                         |null        |null    |null     |null      |null  |null    |2016-08-29 01:41:48|null |null|null            |null           |null                                         |null                                               |null                                       |null                               |null                               |null                                   |null                               |null                                     |null                                   |null                      |null                              |null                                                 |null                                                   |null                                                 |null                                                   |null                                                  |null                                             |null                                             |null                             |null                      |null                                          |null                                                    |null                                                         |null                                                         |null                                                                      |null                                                                    |null                                                                      |null                                                                                |null                                                           |null                                                             |null                                                   |null                                                             |null                                                |null             |null              |null                          |null                                 |null                         |null                          |null                                                |null                               |null                              |null                                     |null                    |null           |null                                          |null                          |null                                                         |null                                                 |null                                                 |null                                                 |null                                                 |null                                          |null                                          |null                                          |null                                         |null                                         |null                                         |null                                         |null                                         |null                                                  |null            |null                        |null                                           |null                                         |null                                         |null                                           |null                                         |null                                            |null                                         |null                                         |null      |null            |null           |null           |null            |null                        |null            |null      |null                   |null                  |null                  |null                     |null           |null             |null                   |null                 |null              |null                |null                    |null                      |null                 |null                        |null                         |null                    |null          |null            |null                                        |null                                               |null                                              |null                                         |null                                         |null                    |null                       |null                              |null                       |null                       |null                       |null                                                |null   |null|\n",
      "+----------------+------------------------+---------------+----+--------------------+---------------------+----------+----------+--------+----------+----------+--------------+--------------+------------+-------+---------------------------------------------------------------------------------------------+--------------------------+------------+-------------+-----------------+-----------+-----------------+-------------------+--------------------+-----------+------------+--------+--------+------------+-----------------------+-------------------------------------------------------------------------------+----------------------------------------------------------------------------+----------------------------------------------------------------------------+------------------------------------------------------------------------------+-------------------------------------------------------------------+------------------------------------------------------------------------------------------------------------+------------------------------------------------------------------------------------+--------------------------------------------------------------------------------------+--------------------------------------------------------------------------------------------------------+---------+----------+------------+--------+-----+--------+-------+-----------+------------------------------------+------------------------------------+------------------------------------+------------------------------------+------------------------------------+------------------------------------+------------------------------------+------------------------------------+------------------------------------+------------------------------------+------------------------------------+------------------------------------+------------------------------------+------------------------------------+------------------------------------+------------------------------------+------------------------------------+------------------------------------+------------------------------------+------------------------------------+------------------------------------+------------------------------------+------------------------------------+------------------------------------+------------------------------------+------------------------------------+------------------------------------+------------------------------------+------------------------------------+------------------------------------+------------------------------------+------------------------------------+------------------------------------+------------------------------------+------------------------------------+------------------------------------+------------------------------------+------------------------------------+------------------------------------+------------------------------------+------------------------------------+------------------------------------+------------------------------------+------------------------------------+------------------------------------+------------------------------------+------------------------------------+------------------------------------+----------------------------------+------------------------------------+------------------------------------+------------------------------------+----------------------------------+----------------------------------+------------------------------------+------------------------------------+------------------------------------+------------------------------------+------------------------------------+------------------------------------+------------------------------------+------------------------------------+------------------------------------+------------------------------------+------------------------------------+------------------------------------+------------------------------------+------------------------------------+------------------------------------+------------------------------------+------------------------------------+------------------------------------+------------------------------------+------------------------------------+------------------------------------+------------------------------------+------------------------------------+------------------------------------+------------------------------------+------------------------------------+------------------------------------+------------------------------------+------------------------------------+------------------------------------+------------------------------------+------------------------------------+------------------------------------+------------------------------------+------------------------------------+-------------+--------------+--------+---------+--------------+-------------+----------------------------------------------+-------------------+------------------+-------------+-------+------------+-------+--------+-------+---------------+---------------------------------------------------------------------------------------------------------------------------------------------+------------+--------+---------+----------+------+--------+-------------------+-----+----+----------------+---------------+---------------------------------------------+---------------------------------------------------+-------------------------------------------+-----------------------------------+-----------------------------------+---------------------------------------+-----------------------------------+-----------------------------------------+---------------------------------------+--------------------------+----------------------------------+-----------------------------------------------------+-------------------------------------------------------+-----------------------------------------------------+-------------------------------------------------------+------------------------------------------------------+-------------------------------------------------+-------------------------------------------------+---------------------------------+--------------------------+----------------------------------------------+--------------------------------------------------------+-------------------------------------------------------------+-------------------------------------------------------------+--------------------------------------------------------------------------+------------------------------------------------------------------------+--------------------------------------------------------------------------+------------------------------------------------------------------------------------+---------------------------------------------------------------+-----------------------------------------------------------------+-------------------------------------------------------+-----------------------------------------------------------------+----------------------------------------------------+-----------------+------------------+------------------------------+-------------------------------------+-----------------------------+------------------------------+----------------------------------------------------+-----------------------------------+----------------------------------+-----------------------------------------+------------------------+---------------+----------------------------------------------+------------------------------+-------------------------------------------------------------+-----------------------------------------------------+-----------------------------------------------------+-----------------------------------------------------+-----------------------------------------------------+----------------------------------------------+----------------------------------------------+----------------------------------------------+---------------------------------------------+---------------------------------------------+---------------------------------------------+---------------------------------------------+---------------------------------------------+------------------------------------------------------+----------------+----------------------------+-----------------------------------------------+---------------------------------------------+---------------------------------------------+-----------------------------------------------+---------------------------------------------+------------------------------------------------+---------------------------------------------+---------------------------------------------+----------+----------------+---------------+---------------+----------------+----------------------------+----------------+----------+-----------------------+----------------------+----------------------+-------------------------+---------------+-----------------+-----------------------+---------------------+------------------+--------------------+------------------------+--------------------------+---------------------+----------------------------+-----------------------------+------------------------+--------------+----------------+--------------------------------------------+---------------------------------------------------+--------------------------------------------------+---------------------------------------------+---------------------------------------------+------------------------+---------------------------+----------------------------------+---------------------------+---------------------------+---------------------------+----------------------------------------------------+-------+----+\n",
      "only showing top 5 rows\n",
      "\n"
     ]
    }
   ],
   "source": [
    "eventdump_fin1.show(5, truncate=False)"
   ]
  },
  {
   "cell_type": "code",
   "execution_count": 113,
   "metadata": {
    "id": "skfwOvHo3e1-"
   },
   "outputs": [],
   "source": [
    "uicycles.createOrReplaceTempView(\"uicycles\")\n",
    "eventdump_fin1.createOrReplaceTempView(\"eventsdump\")"
   ]
  },
  {
   "cell_type": "markdown",
   "metadata": {
    "id": "ZVug6Ls93e1_"
   },
   "source": [
    "### Customer retention trends from their lifetime cycles [frequency chart or histogram plot] [retention is defined as the duration of one install-uninstall cycle, so multiple re-installs have to be treated separately]"
   ]
  },
  {
   "cell_type": "code",
   "execution_count": 114,
   "metadata": {
    "id": "dZLzbk1y3e2C"
   },
   "outputs": [],
   "source": [
    "from pyspark.sql.window import Window\n",
    "from pyspark.sql.functions import * #lot of functions available here"
   ]
  },
  {
   "cell_type": "code",
   "execution_count": 115,
   "metadata": {
    "id": "Pzwd-JOs3e2D"
   },
   "outputs": [],
   "source": [
    "#create windowing object\n",
    "windowSpec = Window.partitionBy(\"uuid\").orderBy(\"creation_date\")"
   ]
  },
  {
   "cell_type": "code",
   "execution_count": 116,
   "metadata": {
    "id": "XSjOwhQe3e2F"
   },
   "outputs": [],
   "source": [
    "uicycles1 = uicycles.withColumn(\"nxt_event_type\",lead(\"event_type\",1).over(windowSpec)).withColumn(\"nxt_creation_date\",lead(\"creation_date\",1).over(windowSpec))\n",
    "uicycles1.createOrReplaceTempView(\"uicycles1\")"
   ]
  },
  {
   "cell_type": "code",
   "execution_count": 117,
   "metadata": {
    "colab": {
     "base_uri": "https://localhost:8080/"
    },
    "id": "X9Jmxu-L3e2F",
    "outputId": "b1993307-bed7-4ffc-831d-e2d124e23ba1"
   },
   "outputs": [
    {
     "name": "stdout",
     "output_type": "stream",
     "text": [
      "+----------------+-------+----------+---------------------+--------------+---------------------+\n",
      "|uuid            |os     |event_type|creation_date        |nxt_event_type|nxt_creation_date    |\n",
      "+----------------+-------+----------+---------------------+--------------+---------------------+\n",
      "|null            |null   |install   |2016-08-23 14:59:00.0|install       |2016-08-26 03:59:45.0|\n",
      "|null            |null   |install   |2016-08-26 03:59:45.0|null          |null                 |\n",
      "|085d478f5ec1c379|Android|install   |2016-08-29 02:31:34.0|uninstall     |2016-08-30 05:51:25.0|\n",
      "|085d478f5ec1c379|Android|uninstall |2016-08-30 05:51:25.0|null          |null                 |\n",
      "|10001b8438ddec6 |Android|install   |2016-08-08 10:36:31.0|uninstall     |2016-08-09 17:33:51.0|\n",
      "+----------------+-------+----------+---------------------+--------------+---------------------+\n",
      "only showing top 5 rows\n",
      "\n"
     ]
    }
   ],
   "source": [
    "uicycles1.show(5, truncate=False)"
   ]
  },
  {
   "cell_type": "code",
   "execution_count": 118,
   "metadata": {
    "colab": {
     "base_uri": "https://localhost:8080/"
    },
    "id": "tfQfM98t3e2G",
    "outputId": "361dd16b-01d6-46d2-d46c-0e5b62313685"
   },
   "outputs": [
    {
     "name": "stdout",
     "output_type": "stream",
     "text": [
      "+---------------+-----+\n",
      "|life_cycle_days|  cnt|\n",
      "+---------------+-----+\n",
      "|              1|20828|\n",
      "|              2| 6675|\n",
      "|              3| 2425|\n",
      "|              4| 1715|\n",
      "|              5| 1246|\n",
      "|              6| 1146|\n",
      "|              7|  912|\n",
      "|              8|  828|\n",
      "|              9|  674|\n",
      "|             10|  573|\n",
      "+---------------+-----+\n",
      "only showing top 10 rows\n",
      "\n"
     ]
    }
   ],
   "source": [
    "spark.sql(\"\"\"select datediff(nxt_creation_date, creation_date) as life_cycle_days, count(uuid) as cnt\n",
    "          from uicycles1 \n",
    "          where event_type in (\"install\", \"re-install\")\n",
    "          and nxt_event_type = \"uninstall\"\n",
    "          group by life_cycle_days\n",
    "          order by cnt desc\"\"\").show(10)"
   ]
  },
  {
   "cell_type": "markdown",
   "metadata": {
    "id": "4Bp8slUg3e2G"
   },
   "source": [
    "### Find out the time of day when the customers are most active [use your own discretion for time of day bucketing] [activity is defined on the basis of events]"
   ]
  },
  {
   "cell_type": "code",
   "execution_count": 119,
   "metadata": {
    "colab": {
     "base_uri": "https://localhost:8080/"
    },
    "id": "5zLzHGJi8XO8",
    "outputId": "4cf01458-aed0-4140-f0ac-ee5887f72c33"
   },
   "outputs": [
    {
     "name": "stdout",
     "output_type": "stream",
     "text": [
      "+-----------+------+\n",
      "|time_of_day|   cnt|\n",
      "+-----------+------+\n",
      "|       null|168150|\n",
      "|         11|112189|\n",
      "|          0| 82798|\n",
      "|         10| 78385|\n",
      "|          9| 68746|\n",
      "|          8| 61428|\n",
      "|          1| 59099|\n",
      "|          7| 54815|\n",
      "|          6| 53889|\n",
      "|          4| 50134|\n",
      "|          5| 49431|\n",
      "|          2| 48362|\n",
      "|          3| 46998|\n",
      "+-----------+------+\n",
      "\n"
     ]
    }
   ],
   "source": [
    "spark.sql(\"\"\" \n",
    "        select extract(hour from timeStamp) as time_of_day, count(event) as cnt\n",
    "        from eventsdump\n",
    "        group by time_of_day\n",
    "        order by cnt desc\"\"\"\n",
    "     ).show()"
   ]
  },
  {
   "cell_type": "code",
   "execution_count": 120,
   "metadata": {
    "colab": {
     "base_uri": "https://localhost:8080/"
    },
    "id": "jviJ70IG3e2H",
    "outputId": "cdf3ef4b-d214-45e3-e156-2dd44589e045"
   },
   "outputs": [
    {
     "name": "stdout",
     "output_type": "stream",
     "text": [
      "+-----------+------+\n",
      "|time_of_day|   cnt|\n",
      "+-----------+------+\n",
      "|      00-06|390711|\n",
      "|      06-12|375563|\n",
      "|       null|168150|\n",
      "+-----------+------+\n",
      "\n"
     ]
    }
   ],
   "source": [
    "spark.sql(\"\"\" \n",
    "        select case when hour(timeStamp) <=6 then '00-06'\n",
    "        when hour(timeStamp) <=12 then '06-12'\n",
    "        when hour(timeStamp) <=18 then '12-18'\n",
    "        when hour(timeStamp) <=24 then '18-24'\n",
    "        end as time_of_day, count(event) as cnt\n",
    "        from eventsdump\n",
    "        group by time_of_day\n",
    "        order by cnt desc\"\"\").show()"
   ]
  },
  {
   "cell_type": "markdown",
   "metadata": {
    "id": "JD7woszR3e2H"
   },
   "source": [
    "### Purchase value buckets [find purchase/checkout events from event logs and parse the 'properties' column to get total value associated and generate a simple bucketed frequency chart/histogram plot]"
   ]
  },
  {
   "cell_type": "code",
   "execution_count": 121,
   "metadata": {
    "colab": {
     "base_uri": "https://localhost:8080/"
    },
    "id": "Owl_HP0G3e2I",
    "outputId": "2bb249c9-bc59-44e4-8b80-e0fb243151d9"
   },
   "outputs": [
    {
     "name": "stdout",
     "output_type": "stream",
     "text": [
      "+-----------------------------------------------------------------+\n",
      "|event                                                            |\n",
      "+-----------------------------------------------------------------+\n",
      "|Sub-Category is viewed                                           |\n",
      "|Cart is viewed                                                   |\n",
      "|Checkout is completed by Cash On Delivery                        |\n",
      "|Place Order is initiated                                         |\n",
      "|Product review is viewed                                         |\n",
      "|Checkout is completed by Credit Cards / Debit Cards / Net Banking|\n",
      "|Product is shared                                                |\n",
      "|Checkout is completed by PG                                      |\n",
      "|Checkout is completed by Paid using zCoins                       |\n",
      "|Signup failed                                                    |\n",
      "|User has logged in                                               |\n",
      "|Brand page is viewed                                             |\n",
      "|Product is added to wishlist                                     |\n",
      "|Checkout Failed                                                  |\n",
      "|Search is initiated                                              |\n",
      "|Category is viewed                                               |\n",
      "|Product detail is viewed                                         |\n",
      "|Login failed                                                     |\n",
      "|Product is added to cart                                         |\n",
      "|Shipping addresss added                                          |\n",
      "|Push notification received                                       |\n",
      "|Search results page viewed                                       |\n",
      "|Search returned 0 results                                        |\n",
      "|Login initiated                                                  |\n",
      "|Pincode Check                                                    |\n",
      "|Push notification opened                                         |\n",
      "|download_source                                                  |\n",
      "|uio_push_token                                                   |\n",
      "|Push Event Clicked                                               |\n",
      "|Signup is initiated                                              |\n",
      "|Checkout is completed by null                                    |\n",
      "|Add shipping address                                             |\n",
      "|Banner is viewed                                                 |\n",
      "|Guest checkout initiated                                         |\n",
      "|Login or signup checkout                                         |\n",
      "|Search icon clicked                                              |\n",
      "|Product is viewed                                                |\n",
      "+-----------------------------------------------------------------+\n",
      "\n"
     ]
    }
   ],
   "source": [
    "spark.sql(\"\"\" \n",
    "        select distinct event\n",
    "        from eventsdump\"\"\").show(100, truncate = False)"
   ]
  },
  {
   "cell_type": "code",
   "execution_count": 122,
   "metadata": {
    "colab": {
     "base_uri": "https://localhost:8080/"
    },
    "id": "iaFvPu5G3e2I",
    "outputId": "46fd56fa-3446-4ce6-f912-bf588648dee7"
   },
   "outputs": [
    {
     "name": "stdout",
     "output_type": "stream",
     "text": [
      "+-----+---+\n",
      "|total|cnt|\n",
      "+-----+---+\n",
      "|  805|  1|\n",
      "|  726|  1|\n",
      "| 1711|  1|\n",
      "|  816|  1|\n",
      "|  484|  1|\n",
      "| 1026|  1|\n",
      "| 1883|  1|\n",
      "| 1654|  1|\n",
      "|  904|  1|\n",
      "|  606|  1|\n",
      "| 2541|  1|\n",
      "| 2924|  1|\n",
      "| 1169|  1|\n",
      "| 5200|  1|\n",
      "| 1017|  1|\n",
      "| 2118|  1|\n",
      "|  705|  1|\n",
      "| 6565|  1|\n",
      "| 1873|  1|\n",
      "| 1142|  1|\n",
      "+-----+---+\n",
      "only showing top 20 rows\n",
      "\n"
     ]
    }
   ],
   "source": [
    "spark.sql(\"\"\" \n",
    "        select total, count(event) as cnt\n",
    "        from eventsdump\n",
    "        where event like 'Checkout%'\n",
    "        group by total\n",
    "        order by cnt \"\"\").show()"
   ]
  },
  {
   "cell_type": "markdown",
   "metadata": {
    "id": "t8oeE7W_3e2I"
   },
   "source": [
    "### Behavior of purchasing and non-purchasing customers [something along the lines of their in-app event frequency in a given install-uninstall cycle]"
   ]
  },
  {
   "cell_type": "code",
   "execution_count": 123,
   "metadata": {
    "colab": {
     "base_uri": "https://localhost:8080/"
    },
    "id": "RJtCJnrv3e2J",
    "outputId": "6cecfa5d-3379-46dd-b50b-e2433ee3edc5"
   },
   "outputs": [
    {
     "name": "stdout",
     "output_type": "stream",
     "text": [
      "+--------------+----------+\n",
      "|     cust_type|event_freq|\n",
      "+--------------+----------+\n",
      "|    purchasing|        69|\n",
      "|non-purchasing|     25020|\n",
      "+--------------+----------+\n",
      "\n"
     ]
    }
   ],
   "source": [
    "spark.sql(\"\"\"select cust_type, count(event) as event_freq from (\n",
    "        select a.*, b.cust_type, b.event, b.timeStamp\n",
    "        from uicycles1 a\n",
    "        left join\n",
    "        (select *, case when event like 'Checkout%' then 'purchasing'\n",
    "        else 'non-purchasing' end as cust_type\n",
    "        from eventsdump) b\n",
    "        on a.uuid = b.uuid\n",
    "        where a.event_type in (\"install\", \"re-install\") and a.nxt_event_type = \"uninstall\"\n",
    "        and b.timeStamp between creation_date and nxt_creation_date\n",
    "        ) where cust_type is not null\n",
    "        group by cust_type\n",
    "        order by event_freq\"\"\").show()"
   ]
  },
  {
   "cell_type": "markdown",
   "metadata": {
    "id": "BoF6lvAN3e2J"
   },
   "source": [
    "### Week over Week revenue trends for purchasing customers"
   ]
  },
  {
   "cell_type": "code",
   "execution_count": 124,
   "metadata": {
    "colab": {
     "base_uri": "https://localhost:8080/"
    },
    "id": "DyqhxFJQ3e2J",
    "outputId": "56265ced-dc80-45e6-dd31-eb0bac9de1f7"
   },
   "outputs": [
    {
     "name": "stdout",
     "output_type": "stream",
     "text": [
      "+----+----+---------+\n",
      "|year|week|  tot_amt|\n",
      "+----+----+---------+\n",
      "|2016|  40|    513.0|\n",
      "|2016|  36|    779.0|\n",
      "|2016|  26|    889.0|\n",
      "|2016|  39|   1023.0|\n",
      "|2016|  27|   1220.0|\n",
      "|2016|  33|   2398.0|\n",
      "|2016|  35|1880301.0|\n",
      "|2016|  34|2472212.0|\n",
      "+----+----+---------+\n",
      "\n"
     ]
    }
   ],
   "source": [
    "spark.sql(\"\"\" \n",
    "        select year(timeStamp) as year, weekofyear(timeStamp) as week, sum(total) as tot_amt\n",
    "        from eventsdump\n",
    "        where event like 'Checkout%'\n",
    "        group by year, week\n",
    "        order by tot_amt \"\"\").show()"
   ]
  },
  {
   "cell_type": "markdown",
   "metadata": {
    "id": "Nf66sAZR3e2J"
   },
   "source": [
    "### How their purchases are distributed post install? [the number and value of purchases after installing the app in one retention cycle]"
   ]
  },
  {
   "cell_type": "code",
   "execution_count": 125,
   "metadata": {
    "colab": {
     "base_uri": "https://localhost:8080/"
    },
    "id": "Te78iem63e2J",
    "outputId": "10e5bc3d-22d9-42d0-c904-584111a20235"
   },
   "outputs": [
    {
     "name": "stdout",
     "output_type": "stream",
     "text": [
      "+------------+-------+\n",
      "|num_purchase|tot_amt|\n",
      "+------------+-------+\n",
      "|          69|60549.0|\n",
      "+------------+-------+\n",
      "\n"
     ]
    }
   ],
   "source": [
    "spark.sql(\"\"\"select count(event) as num_purchase, sum(total) as tot_amt from (\n",
    "        select a.*, b.event, b.timeStamp, b.total\n",
    "        from uicycles1 a\n",
    "        left join\n",
    "        (select * from eventsdump\n",
    "        where event like 'Checkout%') b\n",
    "        on a.uuid = b.uuid\n",
    "        where a.event_type in (\"install\", \"re-install\") and a.nxt_event_type = \"uninstall\"\n",
    "        and b.timeStamp between creation_date and nxt_creation_date)\n",
    "        order by num_purchase desc\"\"\").show()"
   ]
  },
  {
   "cell_type": "markdown",
   "metadata": {
    "id": "E8Pa3aCY3e2K"
   },
   "source": [
    "### Do they perform purchases in the 2nd, 3rd etc weeks post install? [if their retention cycle is greater than 1 week]"
   ]
  },
  {
   "cell_type": "code",
   "execution_count": 126,
   "metadata": {
    "colab": {
     "base_uri": "https://localhost:8080/"
    },
    "id": "D9ENV4jn3e2K",
    "outputId": "edb43a5e-7a04-464a-8ef3-76debfdbf7e7"
   },
   "outputs": [
    {
     "name": "stdout",
     "output_type": "stream",
     "text": [
      "+-----------------+------------+\n",
      "|week_post_install|num_purchase|\n",
      "+-----------------+------------+\n",
      "|                0|          16|\n",
      "|                1|          40|\n",
      "|                2|           6|\n",
      "|                3|           6|\n",
      "|                4|           1|\n",
      "+-----------------+------------+\n",
      "\n"
     ]
    }
   ],
   "source": [
    "spark.sql(\"\"\"select week_post_install, count(event) as num_purchase from \n",
    "            (\n",
    "            select a.*, b.event, ceil(datediff(b.timeStamp, creation_date)/7) as week_post_install, b.total\n",
    "            from uicycles1 a\n",
    "            left join\n",
    "            (select * from eventsdump\n",
    "            where event like 'Checkout%') b\n",
    "            on a.uuid = b.uuid\n",
    "            where a.event_type in (\"install\", \"re-install\") and a.nxt_event_type = \"uninstall\"\n",
    "            and b.timeStamp between creation_date and nxt_creation_date\n",
    "            )\n",
    "        group by week_post_install\n",
    "        order by week_post_install\"\"\").show()"
   ]
  },
  {
   "cell_type": "markdown",
   "metadata": {
    "id": "hvNNMdjK3e2K"
   },
   "source": [
    "### Is there a steady inflow of revenue for customers with high retention? [Growth can decline but is it still a positive gradient?]"
   ]
  },
  {
   "cell_type": "code",
   "execution_count": 127,
   "metadata": {
    "colab": {
     "base_uri": "https://localhost:8080/"
    },
    "id": "cVLj4WOP3e2L",
    "outputId": "3abf1a5b-8688-41ab-beb1-161e57ef7f7f"
   },
   "outputs": [
    {
     "name": "stdout",
     "output_type": "stream",
     "text": [
      "+----------------+-----------------+-------+\n",
      "|retention_period|week_post_install|tot_rev|\n",
      "+----------------+-----------------+-------+\n",
      "|              26|                3| 1434.0|\n",
      "|              24|                4|  663.0|\n",
      "|              23|                3|  405.0|\n",
      "|              22|                3| 2266.0|\n",
      "|              19|                3|  488.0|\n",
      "|              18|                3| 1810.0|\n",
      "|              17|                2| 1048.0|\n",
      "|              16|                2|  364.0|\n",
      "|              14|                2|  668.0|\n",
      "|               9|                1| 2115.0|\n",
      "|               9|                2| 1039.0|\n",
      "|               8|                1| 3302.0|\n",
      "|               7|                1| 1292.0|\n",
      "|               6|                1| 4712.0|\n",
      "|               5|                1| 5825.0|\n",
      "|               4|                0| 1119.0|\n",
      "|               4|                1| 3342.0|\n",
      "|               3|                0| 2913.0|\n",
      "|               3|                1| 7741.0|\n",
      "|               2|                0|  926.0|\n",
      "+----------------+-----------------+-------+\n",
      "only showing top 20 rows\n",
      "\n"
     ]
    }
   ],
   "source": [
    "spark.sql(\"\"\"select retention_period, week_post_install, sum(total) as tot_rev from \n",
    "            (\n",
    "            select a.*, datediff(nxt_creation_date, creation_date) as retention_period,\n",
    "            b.event, ceil(datediff(b.timeStamp, creation_date)/7) as week_post_install, b.total\n",
    "            from uicycles1 a\n",
    "            left join\n",
    "            (select * from eventsdump\n",
    "            where event like 'Checkout%') b\n",
    "            on a.uuid = b.uuid\n",
    "            where a.event_type in (\"install\", \"re-install\") and a.nxt_event_type = \"uninstall\"\n",
    "            and b.timeStamp between creation_date and nxt_creation_date\n",
    "            )\n",
    "        group by retention_period, week_post_install\n",
    "        order by retention_period desc, week_post_install asc\"\"\").show()"
   ]
  },
  {
   "cell_type": "code",
   "execution_count": 127,
   "metadata": {
    "id": "XdrIsfp396Ov"
   },
   "outputs": [],
   "source": []
  }
 ],
 "metadata": {
  "colab": {
   "name": "App Analytics.ipynb",
   "provenance": []
  },
  "kernelspec": {
   "display_name": "Python 3",
   "language": "python",
   "name": "python3"
  },
  "language_info": {
   "codemirror_mode": {
    "name": "ipython",
    "version": 3
   },
   "file_extension": ".py",
   "mimetype": "text/x-python",
   "name": "python",
   "nbconvert_exporter": "python",
   "pygments_lexer": "ipython3",
   "version": "3.7.6"
  }
 },
 "nbformat": 4,
 "nbformat_minor": 0
}
